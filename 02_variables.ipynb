{
 "cells": [
  {
   "cell_type": "markdown",
   "id": "8360cc6a-7693-43f5-8608-b9daea75bb5d",
   "metadata": {},
   "source": [
    "# Ruby"
   ]
  },
  {
   "cell_type": "markdown",
   "id": "338eb40e-3da3-4db1-8e9d-e01676672253",
   "metadata": {},
   "source": [
    "## Variables"
   ]
  },
  {
   "cell_type": "code",
   "execution_count": 1,
   "id": "67cdec1d-6dc5-47d6-904a-6cd566e17bca",
   "metadata": {},
   "outputs": [
    {
     "data": {
      "text/plain": [
       "false"
      ]
     },
     "execution_count": 1,
     "metadata": {},
     "output_type": "execute_result"
    }
   ],
   "source": [
    "age = 19\n",
    "name = 'john'\n",
    "can_swim = false"
   ]
  },
  {
   "cell_type": "markdown",
   "id": "e9b103e6-eecd-4a6f-ab87-188ccbd11325",
   "metadata": {},
   "source": [
    "### Variable are references"
   ]
  },
  {
   "cell_type": "code",
   "execution_count": 14,
   "id": "47f03664-aa0d-430b-985e-6bd0b554f750",
   "metadata": {},
   "outputs": [
    {
     "data": {
      "text/plain": [
       "\"address 1\""
      ]
     },
     "execution_count": 14,
     "metadata": {},
     "output_type": "execute_result"
    }
   ],
   "source": [
    "john_address = 'address 1'\n",
    "ben_address = john_address"
   ]
  },
  {
   "cell_type": "code",
   "execution_count": 15,
   "id": "164279db-90b8-42f6-8736-7d67d1527f61",
   "metadata": {},
   "outputs": [
    {
     "data": {
      "text/plain": [
       "\"ADDRESS 1\""
      ]
     },
     "execution_count": 15,
     "metadata": {},
     "output_type": "execute_result"
    }
   ],
   "source": [
    "john_address.upcase!"
   ]
  },
  {
   "cell_type": "code",
   "execution_count": 16,
   "id": "260d0223-99b6-40d3-8d65-3dd0ae3d1d63",
   "metadata": {},
   "outputs": [
    {
     "data": {
      "text/plain": [
       "\"ADDRESS 1\""
      ]
     },
     "execution_count": 16,
     "metadata": {},
     "output_type": "execute_result"
    }
   ],
   "source": [
    "ben_address"
   ]
  },
  {
   "cell_type": "markdown",
   "id": "57d80e51-2983-432b-bfb6-ca2880b4ac63",
   "metadata": {},
   "source": [
    "```ruby\n",
    "upcase != upcase!"
   ]
  },
  {
   "cell_type": "code",
   "execution_count": 17,
   "id": "f231a7d7-f1a4-4fc3-b9d8-eaaf58592e8e",
   "metadata": {},
   "outputs": [
    {
     "data": {
      "text/plain": [
       "3"
      ]
     },
     "execution_count": 17,
     "metadata": {},
     "output_type": "execute_result"
    }
   ],
   "source": [
    "a = 3\n",
    "b = a\n",
    "a = 4\n",
    "b"
   ]
  }
 ],
 "metadata": {
  "kernelspec": {
   "display_name": "Ruby 3 (iruby kernel)",
   "language": "ruby",
   "name": "ruby3"
  },
  "language_info": {
   "file_extension": ".rb",
   "mimetype": "application/x-ruby",
   "name": "ruby",
   "version": "3.3.8"
  }
 },
 "nbformat": 4,
 "nbformat_minor": 5
}
