{
 "cells": [
  {
   "cell_type": "code",
   "execution_count": null,
   "id": "4bb3dd7d-3592-4724-a105-85ab2b7021d6",
   "metadata": {},
   "outputs": [],
   "source": []
  }
 ],
 "metadata": {
  "kernelspec": {
   "display_name": "",
   "name": ""
  },
  "language_info": {
   "name": ""
  }
 },
 "nbformat": 4,
 "nbformat_minor": 5
}
