{
 "cells": [
  {
   "cell_type": "markdown",
   "id": "0dec1919-e742-437d-bd5d-fec6e16a1643",
   "metadata": {},
   "source": [
    "# Chapter 01 Ruby 2.1"
   ]
  },
  {
   "cell_type": "markdown",
   "id": "2ce930bd-a8aa-4931-929a-36c5b1f0bbad",
   "metadata": {},
   "source": [
    "## 1. What’s Different Between Ruby 1.8 and 2.1?"
   ]
  },
  {
   "cell_type": "markdown",
   "id": "0f0834e1-a126-4792-b64e-c92929e7fb4e",
   "metadata": {
    "jp-MarkdownHeadingCollapsed": true
   },
   "source": [
    "### Lamda function"
   ]
  },
  {
   "cell_type": "code",
   "execution_count": 1,
   "id": "97ce2363-2467-400c-aa5a-d09685d74df3",
   "metadata": {},
   "outputs": [
    {
     "data": {
      "text/plain": [
       "#<Proc:0x00007e319c482690 (irb):0 (lambda)>"
      ]
     },
     "execution_count": 1,
     "metadata": {},
     "output_type": "execute_result"
    }
   ],
   "source": [
    "greeting = -> (name) { \"Hello #{name}\" }"
   ]
  },
  {
   "cell_type": "code",
   "execution_count": 2,
   "id": "a38b76f4-e1d2-484c-993f-2e5b6ea1d791",
   "metadata": {},
   "outputs": [
    {
     "data": {
      "text/plain": [
       "\"Hello ye wen zi\""
      ]
     },
     "execution_count": 2,
     "metadata": {},
     "output_type": "execute_result"
    }
   ],
   "source": [
    "greeting.call(\"ye wen zi\")"
   ]
  },
  {
   "cell_type": "markdown",
   "id": "68426d9e-d405-4f5d-b625-d4d124d6bab2",
   "metadata": {
    "jp-MarkdownHeadingCollapsed": true
   },
   "source": [
    "### Symbol Array"
   ]
  },
  {
   "cell_type": "code",
   "execution_count": 3,
   "id": "32133580-818a-4674-982b-56c0983f7e06",
   "metadata": {},
   "outputs": [
    {
     "data": {
      "text/plain": [
       "[:foo, :bar]"
      ]
     },
     "execution_count": 3,
     "metadata": {},
     "output_type": "execute_result"
    }
   ],
   "source": [
    "arr = %i(foo bar)\n",
    "arr"
   ]
  },
  {
   "cell_type": "markdown",
   "id": "8aab63ac-8f48-40ea-8f20-2f0b6ac6c055",
   "metadata": {
    "jp-MarkdownHeadingCollapsed": true
   },
   "source": [
    "### Def"
   ]
  },
  {
   "cell_type": "code",
   "execution_count": 4,
   "id": "3400dc7b-56ce-474f-9e26-baad3064bb30",
   "metadata": {},
   "outputs": [
    {
     "data": {
      "text/plain": [
       "3"
      ]
     },
     "execution_count": 4,
     "metadata": {},
     "output_type": "execute_result"
    }
   ],
   "source": [
    "def sum(a, b);\n",
    "    a + b\n",
    "end\n",
    "\n",
    "sum(1, 2)"
   ]
  },
  {
   "cell_type": "markdown",
   "id": "7d9db8ef-aa73-4bd7-883e-1fe45543fe4b",
   "metadata": {
    "jp-MarkdownHeadingCollapsed": true
   },
   "source": [
    "### Array"
   ]
  },
  {
   "cell_type": "code",
   "execution_count": 5,
   "id": "9841ca94-c299-4ee4-85c6-2de320facee0",
   "metadata": {},
   "outputs": [
    {
     "data": {
      "text/plain": [
       "[:bar, :foo]"
      ]
     },
     "execution_count": 5,
     "metadata": {},
     "output_type": "execute_result"
    }
   ],
   "source": [
    "[:foo, :bar].rotate"
   ]
  },
  {
   "cell_type": "code",
   "execution_count": 6,
   "id": "eaa17ac7-22c3-4562-a365-8f194c49d143",
   "metadata": {},
   "outputs": [
    {
     "data": {
      "text/plain": [
       "[2, 4, 6, 8, 0]"
      ]
     },
     "execution_count": 6,
     "metadata": {},
     "output_type": "execute_result"
    }
   ],
   "source": [
    "[1, 2, 3, 4, 5, 6, 7, 8, 9, 0].keep_if { |e| e % 2 == 0 }"
   ]
  },
  {
   "cell_type": "code",
   "execution_count": 7,
   "id": "5e9c82a0-f707-4ed1-9d2e-43959ca1808e",
   "metadata": {},
   "outputs": [
    {
     "data": {
      "text/plain": [
       ":foo"
      ]
     },
     "execution_count": 7,
     "metadata": {},
     "output_type": "execute_result"
    }
   ],
   "source": [
    "[:foo, :bar].sample"
   ]
  },
  {
   "cell_type": "markdown",
   "id": "caa0a478-f861-45ea-8363-4663de4f8910",
   "metadata": {
    "jp-MarkdownHeadingCollapsed": true
   },
   "source": [
    "### Hash"
   ]
  },
  {
   "cell_type": "code",
   "execution_count": 8,
   "id": "bd5caa36-ceec-47fd-ad6c-2f57b50d9413",
   "metadata": {},
   "outputs": [
    {
     "data": {
      "text/plain": [
       "{name: :john, age: 21}"
      ]
     },
     "execution_count": 8,
     "metadata": {},
     "output_type": "execute_result"
    }
   ],
   "source": [
    "student = {\n",
    "    name: :john,\n",
    "    age: 21\n",
    "}\n",
    "student"
   ]
  },
  {
   "cell_type": "code",
   "execution_count": 9,
   "id": "dbd5cf1c-48ef-4d27-9cbb-702278c58915",
   "metadata": {},
   "outputs": [
    {
     "data": {
      "text/plain": [
       ":name"
      ]
     },
     "execution_count": 9,
     "metadata": {},
     "output_type": "execute_result"
    }
   ],
   "source": [
    "student.key(:john)"
   ]
  },
  {
   "cell_type": "markdown",
   "id": "11776728-5109-41f9-af3d-619952ab68f0",
   "metadata": {
    "jp-MarkdownHeadingCollapsed": true
   },
   "source": [
    "### Function"
   ]
  },
  {
   "cell_type": "code",
   "execution_count": 10,
   "id": "21d48379-ad1b-4f68-8ac0-2bc91a9a58e9",
   "metadata": {},
   "outputs": [
    {
     "data": {
      "text/plain": [
       ":bar"
      ]
     },
     "execution_count": 10,
     "metadata": {},
     "output_type": "execute_result"
    }
   ],
   "source": [
    "def new_way(**kargs)\n",
    "    kargs[:foo]\n",
    "end\n",
    "\n",
    "new_way(foo: :bar)"
   ]
  },
  {
   "cell_type": "code",
   "execution_count": 11,
   "id": "8f5f769d-28cc-486b-8345-a5f4294f02d9",
   "metadata": {},
   "outputs": [
    {
     "data": {
      "text/plain": [
       ":bar"
      ]
     },
     "execution_count": 11,
     "metadata": {},
     "output_type": "execute_result"
    }
   ],
   "source": [
    "def new_way(foo:)\n",
    "    foo\n",
    "end\n",
    "\n",
    "new_way(foo: :bar)"
   ]
  },
  {
   "cell_type": "markdown",
   "id": "b915b8a3-0c9e-48eb-be38-5622ac1ab633",
   "metadata": {
    "jp-MarkdownHeadingCollapsed": true
   },
   "source": [
    "### Class"
   ]
  },
  {
   "cell_type": "code",
   "execution_count": 12,
   "id": "339b4c99-b9b5-410d-96df-f9a74a95b763",
   "metadata": {},
   "outputs": [
    {
     "data": {
      "text/plain": [
       ":bar"
      ]
     },
     "execution_count": 12,
     "metadata": {},
     "output_type": "execute_result"
    }
   ],
   "source": [
    "class Foo\n",
    " private def baz\n",
    "     return \"yay\"\n",
    " end\n",
    " def bar\n",
    "     baz\n",
    " end\n",
    "end"
   ]
  },
  {
   "cell_type": "code",
   "execution_count": 13,
   "id": "ebadecaf-e0e1-421d-9e36-9b1afbc432a7",
   "metadata": {},
   "outputs": [
    {
     "ename": "NoMethodError",
     "evalue": "private method 'baz' called for an instance of #<Class:0x00007e319ce12b38>::Foo",
     "output_type": "error",
     "traceback": [
      "\u001b[31mNoMethodError\u001b[0m: private method 'baz' called for an instance of #<Class:0x00007e319ce12b38>::Foo",
      "(irb):in '<top (required)>'"
     ]
    }
   ],
   "source": [
    "Foo.new.baz"
   ]
  },
  {
   "cell_type": "code",
   "execution_count": 14,
   "id": "791f7a35-3e4e-4ce8-8361-aba86fff1121",
   "metadata": {},
   "outputs": [
    {
     "data": {
      "text/plain": [
       "\"yay\""
      ]
     },
     "execution_count": 14,
     "metadata": {},
     "output_type": "execute_result"
    }
   ],
   "source": [
    "Foo.new.bar"
   ]
  },
  {
   "cell_type": "markdown",
   "id": "c7395771-0dcc-4808-b362-04de6f1f1280",
   "metadata": {
    "jp-MarkdownHeadingCollapsed": true
   },
   "source": [
    "### Keyword Arguments"
   ]
  },
  {
   "cell_type": "code",
   "execution_count": 15,
   "id": "6fc7f5bd-0fa7-4c6d-94d9-8befdda31836",
   "metadata": {},
   "outputs": [
    {
     "data": {
      "text/plain": [
       ":foo"
      ]
     },
     "execution_count": 15,
     "metadata": {},
     "output_type": "execute_result"
    }
   ],
   "source": [
    "def foo(a, b=\"b_default\", *c, d:, e: \"e_default\", **f, &g)\n",
    "    puts \"a: #{a.inspect}\"\n",
    "    puts \"b: #{b.inspect}\"\n",
    "    puts \"c: #{c.inspect}\"\n",
    "    puts \"d: #{d.inspect}\"\n",
    "    puts \"e: #{e.inspect}\"\n",
    "    puts \"f: #{f.inspect}\"\n",
    "    puts !g ? \"g: #{g.inspect}\" : \"g.call: #{g.call}\"\n",
    "end"
   ]
  },
  {
   "cell_type": "code",
   "execution_count": 16,
   "id": "e5ebee09-4a71-488e-90fa-b7269f619905",
   "metadata": {},
   "outputs": [
    {
     "name": "stdout",
     "output_type": "stream",
     "text": [
      "a: :a\n",
      "b: \"Hello\"\n",
      "c: [\"World\"]\n",
      "d: :d\n",
      "e: \"e\"\n",
      "f: {f1: :f1, f2: :f2}\n",
      "g: nil\n"
     ]
    }
   ],
   "source": [
    "foo :a, \"Hello\", \"World\", d: :d, f1: :f1, f2: :f2, e: \"e\""
   ]
  },
  {
   "cell_type": "code",
   "execution_count": 17,
   "id": "d4e1f595-fcdf-4cc4-b619-6838634d2fac",
   "metadata": {},
   "outputs": [
    {
     "name": "stdout",
     "output_type": "stream",
     "text": [
      "a: :a\n",
      "b: :b\n",
      "c: [\"Hello\", \"World\"]\n",
      "d: :d\n",
      "e: \"e\"\n",
      "f: {f1: :f1, f2: :f2}\n",
      "g: nil\n"
     ]
    }
   ],
   "source": [
    "foo :a, b=:b, \"Hello\", \"World\", d: :d, f1: :f1, f2: :f2, e: \"e\""
   ]
  },
  {
   "cell_type": "code",
   "execution_count": 18,
   "id": "cb63c38d-3039-4dee-9153-30aad7661089",
   "metadata": {},
   "outputs": [
    {
     "name": "stdout",
     "output_type": "stream",
     "text": [
      "a: :a\n",
      "b: \"Hello\"\n",
      "c: [\"World\"]\n",
      "d: :d\n",
      "e: \"e\"\n",
      "f: {f1: :f1, f2: :f2}\n",
      "g.call: Hi there!\n"
     ]
    }
   ],
   "source": [
    "foo(:a, \"Hello\", \"World\", d: :d, f1: :f1, f2: :f2, e: \"e\") { \"Hi there!\" }"
   ]
  },
  {
   "cell_type": "markdown",
   "id": "9728a0cc-06ba-4f33-af9d-1507d3992ad6",
   "metadata": {
    "jp-MarkdownHeadingCollapsed": true
   },
   "source": [
    "### Performance Enhancements"
   ]
  },
  {
   "cell_type": "code",
   "execution_count": 28,
   "id": "0ab9aaf8-06cf-46d2-9696-22a7598d65cf",
   "metadata": {},
   "outputs": [
    {
     "data": {
      "text/plain": [
       "[1, 2, 3, 4, 5, 6, 7, 8, 9, 10]"
      ]
     },
     "execution_count": 28,
     "metadata": {},
     "output_type": "execute_result"
    }
   ],
   "source": [
    "numbers = (1..10).to_a"
   ]
  },
  {
   "cell_type": "code",
   "execution_count": 36,
   "id": "0838a67f-a327-4f8b-ad12-9dac1d0192a8",
   "metadata": {},
   "outputs": [
    {
     "name": "stdout",
     "output_type": "stream",
     "text": [
      "1 2 3 4 5 6 7 8 9 10 "
     ]
    },
    {
     "data": {
      "text/plain": [
       "[8, 64, 216]"
      ]
     },
     "execution_count": 36,
     "metadata": {},
     "output_type": "execute_result"
    }
   ],
   "source": [
    "numbers\n",
    "    .map do |number| \n",
    "        print \"#{number} \"\n",
    "        number ** 3\n",
    "    end\n",
    "    .select { |number| number.even? }\n",
    "    .first(3)"
   ]
  },
  {
   "cell_type": "code",
   "execution_count": 37,
   "id": "9d42ba13-87bf-4787-b33f-ec3cd23dee0c",
   "metadata": {},
   "outputs": [
    {
     "name": "stdout",
     "output_type": "stream",
     "text": [
      "1 2 3 4 5 6 "
     ]
    },
    {
     "data": {
      "text/plain": [
       "[8, 64, 216]"
      ]
     },
     "execution_count": 37,
     "metadata": {},
     "output_type": "execute_result"
    }
   ],
   "source": [
    "numbers\n",
    "    .lazy\n",
    "    .map do |number| \n",
    "        print \"#{number} \"\n",
    "        number ** 3\n",
    "    end\n",
    "    .select { |number| number.even? }\n",
    "    .first(3)"
   ]
  },
  {
   "cell_type": "code",
   "execution_count": 47,
   "id": "d6db230d-fb50-4b04-b89e-82a60927c2ee",
   "metadata": {},
   "outputs": [
    {
     "data": {
      "text/plain": [
       "#<Enumerator::Lazy: #<Enumerator::Lazy: #<Enumerator::Lazy: [1, 2, 3, 4, 5, 6, 7, 8, 9, 10]>:map>:select>"
      ]
     },
     "execution_count": 47,
     "metadata": {},
     "output_type": "execute_result"
    }
   ],
   "source": [
    "enumrator_ = numbers\n",
    "    .lazy\n",
    "    .map do |number| \n",
    "        print \"#{number} \"\n",
    "        number ** 3\n",
    "    end\n",
    "    .select(&:even?)"
   ]
  },
  {
   "cell_type": "code",
   "execution_count": 48,
   "id": "370bd0cc-3b75-4074-b3c6-603c3f749382",
   "metadata": {},
   "outputs": [
    {
     "name": "stdout",
     "output_type": "stream",
     "text": [
      "1 2 3 4 5 6 "
     ]
    },
    {
     "data": {
      "text/plain": [
       "[8, 64, 216]"
      ]
     },
     "execution_count": 48,
     "metadata": {},
     "output_type": "execute_result"
    }
   ],
   "source": [
    "enumrator_.first(3)"
   ]
  },
  {
   "cell_type": "markdown",
   "id": "1dd6a49d-0886-4b60-95cc-c1a04da9d4dd",
   "metadata": {
    "jp-MarkdownHeadingCollapsed": true
   },
   "source": [
    "### Refinements"
   ]
  },
  {
   "cell_type": "markdown",
   "id": "b55332dd-acd7-472d-ab33-d4f8469b7363",
   "metadata": {},
   "source": [
    "You want to monkey-patch some code, but do not want your monkey patches to\n",
    "affect other code."
   ]
  },
  {
   "cell_type": "code",
   "execution_count": 49,
   "id": "1b32a895-e20f-4deb-8453-e4c56c05c41e",
   "metadata": {},
   "outputs": [
    {
     "data": {
      "text/plain": [
       "#<refinement:String@#<Class:0x00007e319ce12b38>::MyMonkeyPatches>"
      ]
     },
     "execution_count": 49,
     "metadata": {},
     "output_type": "execute_result"
    }
   ],
   "source": [
    "module MyMonkeyPatches \n",
    "    refine String do\n",
    "        def length\n",
    "            10_000\n",
    "        end\n",
    "    end\n",
    "end"
   ]
  },
  {
   "cell_type": "code",
   "execution_count": 50,
   "id": "e6c7c847-0e15-4d47-92bb-63ef284633fc",
   "metadata": {},
   "outputs": [
    {
     "data": {
      "text/plain": [
       "\"Hello world!\""
      ]
     },
     "execution_count": 50,
     "metadata": {},
     "output_type": "execute_result"
    }
   ],
   "source": [
    "str = \"Hello world!\""
   ]
  },
  {
   "cell_type": "code",
   "execution_count": 51,
   "id": "316c3483-2d19-48e8-8ab8-7f4762643c1d",
   "metadata": {},
   "outputs": [
    {
     "data": {
      "text/plain": [
       "12"
      ]
     },
     "execution_count": 51,
     "metadata": {},
     "output_type": "execute_result"
    }
   ],
   "source": [
    "str.length"
   ]
  },
  {
   "cell_type": "code",
   "execution_count": 53,
   "id": "1a5b4a3f-fe31-4f47-9fb0-fe994f26bead",
   "metadata": {},
   "outputs": [
    {
     "data": {
      "text/plain": [
       ":length_10_000_for_any_string"
      ]
     },
     "execution_count": 53,
     "metadata": {},
     "output_type": "execute_result"
    }
   ],
   "source": [
    "class Test\n",
    "    using MyMonkeyPatches\n",
    "\n",
    "    def length_10_000_for_any_string(str)\n",
    "        str.length\n",
    "    end\n",
    "end"
   ]
  },
  {
   "cell_type": "code",
   "execution_count": 55,
   "id": "1b978666-5e17-412c-80ea-1d7775491422",
   "metadata": {},
   "outputs": [
    {
     "data": {
      "text/plain": [
       "10000"
      ]
     },
     "execution_count": 55,
     "metadata": {},
     "output_type": "execute_result"
    }
   ],
   "source": [
    "Test.new.length_10_000_for_any_string(str)"
   ]
  },
  {
   "cell_type": "markdown",
   "id": "0b3a723c-0905-49ea-8560-af6ae28c20d8",
   "metadata": {},
   "source": [
    "### New Mothes"
   ]
  },
  {
   "cell_type": "code",
   "execution_count": 57,
   "id": "fdcd6b75-f877-43c3-af19-892faae038fd",
   "metadata": {},
   "outputs": [
    {
     "name": "stdout",
     "output_type": "stream",
     "text": [
      ".\n"
     ]
    }
   ],
   "source": [
    "puts __dir__"
   ]
  },
  {
   "cell_type": "code",
   "execution_count": 58,
   "id": "e9c5a9ac-5c6b-4c52-9bc0-ecc624738e6a",
   "metadata": {},
   "outputs": [
    {
     "data": {
      "text/plain": [
       "\"(irb)\""
      ]
     },
     "execution_count": 58,
     "metadata": {},
     "output_type": "execute_result"
    }
   ],
   "source": [
    "__FILE__"
   ]
  },
  {
   "cell_type": "code",
   "execution_count": 67,
   "id": "82b8d3f0-24b1-47f1-a115-7f133fffce84",
   "metadata": {},
   "outputs": [
    {
     "data": {
      "text/plain": [
       "\"/home/yewenzi/workspace/ruby/yewenzi\""
      ]
     },
     "execution_count": 67,
     "metadata": {},
     "output_type": "execute_result"
    }
   ],
   "source": [
    "File.expand_path(\n",
    "    File.join(__dir__, '..', 'yewenzi')\n",
    ")"
   ]
  },
  {
   "cell_type": "code",
   "execution_count": 69,
   "id": "3afc8b9b-30b2-4b0d-94ee-e5e56d626ff7",
   "metadata": {},
   "outputs": [
    {
     "data": {
      "text/plain": [
       "\"../yewenzi\""
      ]
     },
     "execution_count": 69,
     "metadata": {},
     "output_type": "execute_result"
    }
   ],
   "source": [
    "File.join(\"..\", \"yewenzi\")"
   ]
  },
  {
   "cell_type": "markdown",
   "id": "cde51d20-cc5e-4929-8bd0-f0273eb72570",
   "metadata": {},
   "source": [
    "### New Standard Libraries"
   ]
  },
  {
   "cell_type": "code",
   "execution_count": null,
   "id": "8f453baa-5da8-4c9f-8421-7c6d7efb26a0",
   "metadata": {},
   "outputs": [],
   "source": []
  }
 ],
 "metadata": {
  "kernelspec": {
   "display_name": "Ruby 3 (iruby kernel)",
   "language": "ruby",
   "name": "ruby3"
  },
  "language_info": {
   "file_extension": ".rb",
   "mimetype": "application/x-ruby",
   "name": "ruby",
   "version": "3.4.3"
  }
 },
 "nbformat": 4,
 "nbformat_minor": 5
}
