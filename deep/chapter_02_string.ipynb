{
 "cells": [
  {
   "cell_type": "markdown",
   "id": "13e5ee7e-a946-41ed-b79d-e1f7b810b3f7",
   "metadata": {},
   "source": [
    "# String"
   ]
  },
  {
   "cell_type": "code",
   "execution_count": 79,
   "id": "43265f06-d0b2-4041-bbca-85db66ba7997",
   "metadata": {},
   "outputs": [
    {
     "data": {
      "text/plain": [
       "[:encoding, :each_grapheme_cluster, :slice, :valid_encoding?, :ascii_only?, :unicode_normalize!, :force_encoding, :b, :dup, :shellsplit, :unicode_normalized?, :to_r, :unicode_normalize, :pretty_print, :encode, :encode!, :shellescape, :%, :*, :+, :unpack, :unpack1, :to_c, :count, :partition, :+@, :-@, :<=>, :<<, :sum, :==, :===, :=~, :next, :[], :[]=, :include?, :empty?, :casecmp, :casecmp?, :bytesize, :match, :match?, :succ!, :eql?, :insert, :upto, :next!, :byteindex, :index, :byterindex, :rindex, :chr, :getbyte, :clear, :byteslice, :hash, :bytesplice, :scrub!, :dedup, :replace, :dump, :undump, :scrub, :setbyte, :intern, :upcase, :freeze, :inspect, :swapcase, :downcase, :length, :size, :upcase!, :succ, :hex, :swapcase!, :downcase!, :capitalize, :bytes, :lines, :reverse, :grapheme_clusters, :oct, :split, :to_str, :crypt, :chars, :codepoints, :end_with?, :prepend, :to_s, :to_i, :to_f, :sub, :scan, :reverse!, :concat, :capitalize!, :chomp, :ljust, :to_sym, :start_with?, :strip, :append_as_bytes, :chop, :rjust, :ord, :lstrip, :gsub, :delete_prefix, :delete_suffix, :sub!, :center, :rstrip, :chomp!, :strip!, :lstrip!, :gsub!, :chop!, :delete_suffix!, :tr, :tr_s, :rstrip!, :delete_prefix!, :tr!, :tr_s!, :delete!, :delete, :squeeze, :each_byte, :each_char, :each_codepoint, :squeeze!, :each_line, :slice!, :rpartition, :to_json, :to_json_raw, :to_json_raw_object, :between?, :clamp, :<=, :>=, :<, :>, :pretty_print_inspect, :pretty_print_instance_variables, :pretty_print_cycle, :singleton_class, :itself, :methods, :singleton_methods, :protected_methods, :private_methods, :public_methods, :instance_variables, :instance_variable_get, :instance_variable_set, :instance_variable_defined?, :remove_instance_variable, :instance_of?, :kind_of?, :is_a?, :display, :class, :frozen?, :tap, :then, :yield_self, :public_send, :extend, :clone, :!~, :pretty_inspect, :nil?, :respond_to?, :method, :public_method, :singleton_method, :define_singleton_method, :object_id, :send, :to_enum, :enum_for, :equal?, :!, :__send__, :!=, :__id__, :instance_eval, :instance_exec]"
      ]
     },
     "execution_count": 79,
     "metadata": {},
     "output_type": "execute_result"
    }
   ],
   "source": [
    "\"\".methods"
   ]
  },
  {
   "cell_type": "code",
   "execution_count": 1,
   "id": "acf45d82-c9dc-47b4-b01d-fee696e97247",
   "metadata": {},
   "outputs": [
    {
     "data": {
      "text/plain": [
       "\"Hello, world!\""
      ]
     },
     "execution_count": 1,
     "metadata": {},
     "output_type": "execute_result"
    }
   ],
   "source": [
    "str = \"Hello, world!\""
   ]
  },
  {
   "cell_type": "code",
   "execution_count": 2,
   "id": "cf103650-4aa2-4636-8fb7-f9ac93efc047",
   "metadata": {},
   "outputs": [
    {
     "data": {
      "text/plain": [
       "13"
      ]
     },
     "execution_count": 2,
     "metadata": {},
     "output_type": "execute_result"
    }
   ],
   "source": [
    "str.length"
   ]
  },
  {
   "cell_type": "code",
   "execution_count": 3,
   "id": "40c85816-0052-41a3-9460-918a79393577",
   "metadata": {},
   "outputs": [
    {
     "data": {
      "text/plain": [
       "14"
      ]
     },
     "execution_count": 3,
     "metadata": {},
     "output_type": "execute_result"
    }
   ],
   "source": [
    "str.length.next"
   ]
  },
  {
   "cell_type": "code",
   "execution_count": 8,
   "id": "df94e96f-9d7e-43c6-ade1-6ffb8bdbd9b2",
   "metadata": {},
   "outputs": [
    {
     "name": "stdout",
     "output_type": "stream",
     "text": [
      "Hello!\n",
      "My name is Ye Wen Zi\n"
     ]
    }
   ],
   "source": [
    "long_str = <<EOF\n",
    "Hello!\n",
    "My name is Ye Wen Zi\n",
    "EOF\n",
    "\n",
    "puts long_str"
   ]
  },
  {
   "cell_type": "code",
   "execution_count": 14,
   "id": "64a45260-5e70-40a7-8bda-7dae74f16901",
   "metadata": {},
   "outputs": [
    {
     "data": {
      "text/plain": [
       "\"world!\""
      ]
     },
     "execution_count": 14,
     "metadata": {},
     "output_type": "execute_result"
    }
   ],
   "source": [
    "str.slice(7, 6)"
   ]
  },
  {
   "cell_type": "code",
   "execution_count": 15,
   "id": "3abd5c58-08ce-4c52-ba1e-404a781006f4",
   "metadata": {},
   "outputs": [
    {
     "data": {
      "text/plain": [
       "\"world!\""
      ]
     },
     "execution_count": 15,
     "metadata": {},
     "output_type": "execute_result"
    }
   ],
   "source": [
    "str[7, 6]"
   ]
  },
  {
   "cell_type": "code",
   "execution_count": 16,
   "id": "a284de6b-cc2c-4e27-a72f-873e8584bb32",
   "metadata": {},
   "outputs": [
    {
     "data": {
      "text/plain": [
       "\"HELLO, WORLD!\""
      ]
     },
     "execution_count": 16,
     "metadata": {},
     "output_type": "execute_result"
    }
   ],
   "source": [
    "str.upcase"
   ]
  },
  {
   "cell_type": "code",
   "execution_count": 17,
   "id": "8c188fd7-f6ca-41fc-9dd3-827fdb13c978",
   "metadata": {},
   "outputs": [
    {
     "data": {
      "text/plain": [
       "\"Hello, world!\""
      ]
     },
     "execution_count": 17,
     "metadata": {},
     "output_type": "execute_result"
    }
   ],
   "source": [
    "str"
   ]
  },
  {
   "cell_type": "code",
   "execution_count": 19,
   "id": "534f4e78-2c4a-47c7-bf32-c79eaebc0140",
   "metadata": {},
   "outputs": [
    {
     "data": {
      "text/plain": [
       "false"
      ]
     },
     "execution_count": 19,
     "metadata": {},
     "output_type": "execute_result"
    }
   ],
   "source": [
    "\" \".empty?"
   ]
  },
  {
   "cell_type": "code",
   "execution_count": 20,
   "id": "a904e21a-1e58-4a47-abb4-91c158f6189c",
   "metadata": {},
   "outputs": [
    {
     "data": {
      "text/plain": [
       "true"
      ]
     },
     "execution_count": 20,
     "metadata": {},
     "output_type": "execute_result"
    }
   ],
   "source": [
    "str.include? \"!\""
   ]
  },
  {
   "cell_type": "markdown",
   "id": "8f4c3ad3-1948-4d04-a6a9-13990dd7d069",
   "metadata": {},
   "source": [
    "##  Reversing a String by Words or Characters"
   ]
  },
  {
   "cell_type": "code",
   "execution_count": 22,
   "id": "c93e9347-994d-498d-a29f-9bc51c1ae73a",
   "metadata": {},
   "outputs": [
    {
     "data": {
      "text/plain": [
       "\"!dlrow ,olleH\""
      ]
     },
     "execution_count": 22,
     "metadata": {},
     "output_type": "execute_result"
    }
   ],
   "source": [
    "\"Hello, world!\".reverse"
   ]
  },
  {
   "cell_type": "code",
   "execution_count": 25,
   "id": "8833ca0b-8cad-4d33-85b6-b1fea0b55895",
   "metadata": {},
   "outputs": [
    {
     "data": {
      "text/plain": [
       "\"world! Hello,\""
      ]
     },
     "execution_count": 25,
     "metadata": {},
     "output_type": "execute_result"
    }
   ],
   "source": [
    "\"Hello, world!\".split().reverse().join(' ')"
   ]
  },
  {
   "cell_type": "markdown",
   "id": "0bb1baef-cdfc-43f4-a090-7298dcfc4885",
   "metadata": {},
   "source": [
    "### Converting Between Strings and Symbols"
   ]
  },
  {
   "cell_type": "code",
   "execution_count": 35,
   "id": "4b758825-4f6f-429f-ae3f-7e7b02a483f5",
   "metadata": {},
   "outputs": [
    {
     "data": {
      "text/plain": [
       "false"
      ]
     },
     "execution_count": 35,
     "metadata": {},
     "output_type": "execute_result"
    }
   ],
   "source": [
    "\"string\".object_id === \"string\".object_id"
   ]
  },
  {
   "cell_type": "code",
   "execution_count": 36,
   "id": "8a950c33-57e0-4a8b-9fb9-32591aeaf0b2",
   "metadata": {},
   "outputs": [
    {
     "data": {
      "text/plain": [
       "true"
      ]
     },
     "execution_count": 36,
     "metadata": {},
     "output_type": "execute_result"
    }
   ],
   "source": [
    ":symbol.object_id === :symbol.object_id"
   ]
  },
  {
   "cell_type": "code",
   "execution_count": 38,
   "id": "e572310a-e202-4d0d-8224-343559d8c933",
   "metadata": {},
   "outputs": [
    {
     "data": {
      "text/plain": [
       ":string"
      ]
     },
     "execution_count": 38,
     "metadata": {},
     "output_type": "execute_result"
    }
   ],
   "source": [
    ":\"string\""
   ]
  },
  {
   "cell_type": "code",
   "execution_count": 39,
   "id": "da98d564-5e97-4acd-a895-b203e93fffb6",
   "metadata": {},
   "outputs": [
    {
     "data": {
      "text/plain": [
       "\"symbol\""
      ]
     },
     "execution_count": 39,
     "metadata": {},
     "output_type": "execute_result"
    }
   ],
   "source": [
    ":symbol.to_s"
   ]
  },
  {
   "cell_type": "markdown",
   "id": "4b0be2b8-cbe5-442f-b9ed-cc67624d7cea",
   "metadata": {},
   "source": [
    "### Processing a String One Character at a Time"
   ]
  },
  {
   "cell_type": "code",
   "execution_count": 43,
   "id": "5aa68301-6a3b-475f-afd4-14cf1cece07b",
   "metadata": {},
   "outputs": [
    {
     "name": "stdout",
     "output_type": "stream",
     "text": [
      "121: y\n",
      "101: e\n",
      "119: w\n",
      "101: e\n",
      "110: n\n",
      "122: z\n",
      "105: i\n"
     ]
    },
    {
     "data": {
      "text/plain": [
       "\"yewenzi\""
      ]
     },
     "execution_count": 43,
     "metadata": {},
     "output_type": "execute_result"
    }
   ],
   "source": [
    "\"yewenzi\".each_byte{ |x| puts \"#{x}: #{x.chr}\" }"
   ]
  },
  {
   "cell_type": "code",
   "execution_count": 45,
   "id": "ce2bf438-6754-4b3c-bba8-b00400f4335d",
   "metadata": {},
   "outputs": [
    {
     "name": "stdout",
     "output_type": "stream",
     "text": [
      "y\n",
      "e\n",
      "w\n",
      "e\n",
      "n\n",
      "z\n",
      "i\n"
     ]
    },
    {
     "data": {
      "text/plain": [
       "\"yewenzi\""
      ]
     },
     "execution_count": 45,
     "metadata": {},
     "output_type": "execute_result"
    }
   ],
   "source": [
    "\"yewenzi\".scan(/./) { |x| puts x }"
   ]
  },
  {
   "cell_type": "code",
   "execution_count": 48,
   "id": "12c1c1c3-d71b-42fe-9742-f3ccbb2aa9ff",
   "metadata": {},
   "outputs": [
    {
     "data": {
      "text/plain": [
       "[\"y\", \"e\", \"w\", \"e\", \"n\", \"z\", \"i\"]"
      ]
     },
     "execution_count": 48,
     "metadata": {},
     "output_type": "execute_result"
    }
   ],
   "source": [
    "\"yewenzi\".split('')"
   ]
  },
  {
   "cell_type": "code",
   "execution_count": 2,
   "id": "3e12fad3-43ca-4149-8a83-6bfce0a4998b",
   "metadata": {},
   "outputs": [
    {
     "data": {
      "text/plain": [
       ":word_count"
      ]
     },
     "execution_count": 2,
     "metadata": {},
     "output_type": "execute_result"
    }
   ],
   "source": [
    "class String\n",
    "    def word_count\n",
    "        word_arr = split(\" \")\n",
    "        word_set = word_arr.to_set\n",
    "        count = Hash.new()\n",
    "\n",
    "        word_set.each { |word| count[word] = word_arr.count(word) }\n",
    "\n",
    "        return count\n",
    "    end\n",
    "end\n"
   ]
  },
  {
   "cell_type": "code",
   "execution_count": null,
   "id": "00610e99-aaea-408e-8f7e-c6f43b23469a",
   "metadata": {},
   "outputs": [],
   "source": [
    "count = \"\"\"\n",
    "Lorem Ipsum is simply dummy text of the printing and \n",
    "typesetting industry. Lorem Ipsum has been the industry's \n",
    "standard dummy text ever since the 1500s, when an unknown \n",
    "printer took a galley of type and scrambled it to make a type specimen book.\n",
    "\"\"\".word_count\n",
    "\n",
    "puts count"
   ]
  },
  {
   "cell_type": "markdown",
   "id": "1ff3d8ba-fcbb-4dcf-968b-684acd9164bc",
   "metadata": {},
   "source": [
    "```ruby\n",
    "{\"Lorem\" => 2, \"Ipsum\" => 2, \"is\" => 1, \"simply\" => 1, \"dummy\" => 2, \"text\" => 2, \"of\" => 2, \"the\" => 3, \"printing\" => 1, \"and\" => 2, \"typesetting\" => 1, \"industry.\" => 1, \"has\" => 1, \"been\" => 1, \"industry's\" => 1, \"standard\" => 1, \"ever\" => 1, \"since\" => 1, \"1500s,\" => 1, \"when\" => 1, \"an\" => 1, \"unknown\" => 1, \"printer\" => 1, \"took\" => 1, \"a\" => 2, \"galley\" => 1, \"type\" => 2, \"scrambled\" => 1, \"it\" => 1, \"to\" => 1, \"make\" => 1, \"specimen\" => 1, \"book.\" => 1}\n",
    "```"
   ]
  },
  {
   "cell_type": "markdown",
   "id": "41681a2c-2062-4d86-bf14-f574b22dbfb6",
   "metadata": {},
   "source": [
    "### 2.10 Changing the case of a string"
   ]
  },
  {
   "cell_type": "code",
   "execution_count": 1,
   "id": "3e88eb7a-7fba-4ffe-aa71-d0da10a0e5a5",
   "metadata": {},
   "outputs": [
    {
     "data": {
      "text/plain": [
       "\"hEllo woRlD!\""
      ]
     },
     "execution_count": 1,
     "metadata": {},
     "output_type": "execute_result"
    }
   ],
   "source": [
    "str = 'hEllo woRlD!'"
   ]
  },
  {
   "cell_type": "code",
   "execution_count": 2,
   "id": "1d99e695-a23f-44b5-8409-32c0644c9706",
   "metadata": {},
   "outputs": [
    {
     "data": {
      "text/plain": [
       "\"HELLO WORLD!\""
      ]
     },
     "execution_count": 2,
     "metadata": {},
     "output_type": "execute_result"
    }
   ],
   "source": [
    "str.upcase"
   ]
  },
  {
   "cell_type": "code",
   "execution_count": 3,
   "id": "928e4d68-c975-4e6a-aa14-221855c9ffef",
   "metadata": {},
   "outputs": [
    {
     "data": {
      "text/plain": [
       "\"hello world!\""
      ]
     },
     "execution_count": 3,
     "metadata": {},
     "output_type": "execute_result"
    }
   ],
   "source": [
    "str.downcase"
   ]
  },
  {
   "cell_type": "code",
   "execution_count": 4,
   "id": "368c0009-0ccc-446f-8ea0-feab848c4db7",
   "metadata": {},
   "outputs": [
    {
     "data": {
      "text/plain": [
       "\"HeLLO WOrLd!\""
      ]
     },
     "execution_count": 4,
     "metadata": {},
     "output_type": "execute_result"
    }
   ],
   "source": [
    "str.swapcase"
   ]
  },
  {
   "cell_type": "code",
   "execution_count": 5,
   "id": "5b645642-1529-4f7c-b170-4ce9abff5437",
   "metadata": {},
   "outputs": [
    {
     "data": {
      "text/plain": [
       "\"Hello world!\""
      ]
     },
     "execution_count": 5,
     "metadata": {},
     "output_type": "execute_result"
    }
   ],
   "source": [
    "str.capitalize"
   ]
  },
  {
   "cell_type": "code",
   "execution_count": 11,
   "id": "c13ceb82-0e95-42e0-b9bc-7f2fd49eb9ac",
   "metadata": {},
   "outputs": [
    {
     "data": {
      "text/plain": [
       "\"Hello World!\""
      ]
     },
     "execution_count": 11,
     "metadata": {},
     "output_type": "execute_result"
    }
   ],
   "source": [
    "str.split().map { |w| w[0].upcase + w[1..-1].downcase }.join(' ')"
   ]
  },
  {
   "cell_type": "markdown",
   "id": "7fbe663d-29f9-4ec3-a0f7-5cdff67e1b15",
   "metadata": {},
   "source": [
    "### 2.11 Managing whitespace"
   ]
  },
  {
   "cell_type": "code",
   "execution_count": 12,
   "id": "d60785cc-210c-4492-99c4-615d9075feac",
   "metadata": {},
   "outputs": [
    {
     "data": {
      "text/plain": [
       "\"yewenzi\""
      ]
     },
     "execution_count": 12,
     "metadata": {},
     "output_type": "execute_result"
    }
   ],
   "source": [
    "\"   yewenzi   \".strip"
   ]
  },
  {
   "cell_type": "code",
   "execution_count": 15,
   "id": "99fc7a23-2a66-453e-8765-44380acb4b40",
   "metadata": {},
   "outputs": [
    {
     "data": {
      "text/plain": [
       "\"----yewenzi----\""
      ]
     },
     "execution_count": 15,
     "metadata": {},
     "output_type": "execute_result"
    }
   ],
   "source": [
    "\"yewenzi\".center(15, '-')"
   ]
  },
  {
   "cell_type": "code",
   "execution_count": 16,
   "id": "bdeb61c7-dae9-439d-adfe-97929cea8d45",
   "metadata": {},
   "outputs": [
    {
     "data": {
      "text/plain": [
       "\"yewenzi_____________\""
      ]
     },
     "execution_count": 16,
     "metadata": {},
     "output_type": "execute_result"
    }
   ],
   "source": [
    "\"yewenzi\".ljust(20, '_')"
   ]
  },
  {
   "cell_type": "code",
   "execution_count": 17,
   "id": "ced8dd39-10d2-45d7-80f2-5b329c1c7e44",
   "metadata": {},
   "outputs": [
    {
     "data": {
      "text/plain": [
       "\"-------------yewenzi\""
      ]
     },
     "execution_count": 17,
     "metadata": {},
     "output_type": "execute_result"
    }
   ],
   "source": [
    "\"yewenzi\".rjust(20, '-')"
   ]
  },
  {
   "cell_type": "markdown",
   "id": "01e5313f-f7be-48e3-b8ae-b0dbf8f89e49",
   "metadata": {},
   "source": [
    "### 2.12 Testing whether an object is string-like"
   ]
  },
  {
   "cell_type": "code",
   "execution_count": 22,
   "id": "a9399490-33d7-47c8-9566-dd40f3fe05d9",
   "metadata": {},
   "outputs": [
    {
     "data": {
      "text/plain": [
       "true"
      ]
     },
     "execution_count": 22,
     "metadata": {},
     "output_type": "execute_result"
    }
   ],
   "source": [
    "'yewenzi'.respond_to? :to_str"
   ]
  },
  {
   "cell_type": "code",
   "execution_count": 23,
   "id": "66554b2c-dce4-4668-a7b8-6ebe04e6c0cb",
   "metadata": {},
   "outputs": [
    {
     "data": {
      "text/plain": [
       "false"
      ]
     },
     "execution_count": 23,
     "metadata": {},
     "output_type": "execute_result"
    }
   ],
   "source": [
    "4.respond_to? :to_str"
   ]
  },
  {
   "cell_type": "markdown",
   "id": "e13fe219-5146-4b57-97f8-b4ac8377636b",
   "metadata": {},
   "source": [
    "### 2.13 Getting the parts of a string you want"
   ]
  },
  {
   "cell_type": "code",
   "execution_count": 25,
   "id": "a56e26e0-9a99-4e02-b8e5-fc8c83250dc1",
   "metadata": {},
   "outputs": [
    {
     "data": {
      "text/plain": [
       "\"My kingdom for a string!\""
      ]
     },
     "execution_count": 25,
     "metadata": {},
     "output_type": "execute_result"
    }
   ],
   "source": [
    "s = 'My kingdom for a string!'"
   ]
  },
  {
   "cell_type": "code",
   "execution_count": 27,
   "id": "63ff4f47-8e74-4243-a604-76f5c8948d24",
   "metadata": {},
   "outputs": [
    {
     "data": {
      "text/plain": [
       "\"My k\""
      ]
     },
     "execution_count": 27,
     "metadata": {},
     "output_type": "execute_result"
    }
   ],
   "source": [
    "s.slice(0, 4)"
   ]
  },
  {
   "cell_type": "code",
   "execution_count": 29,
   "id": "56c36661-0c53-4c5c-a19a-7e4f91df4099",
   "metadata": {},
   "outputs": [
    {
     "data": {
      "text/plain": [
       "\"My k\""
      ]
     },
     "execution_count": 29,
     "metadata": {},
     "output_type": "execute_result"
    }
   ],
   "source": [
    "s[0, 4]"
   ]
  },
  {
   "cell_type": "code",
   "execution_count": 33,
   "id": "2351ff50-8e73-4445-93f3-b5494a5384c8",
   "metadata": {},
   "outputs": [
    {
     "data": {
      "text/plain": [
       "\"y kingdom for a string!\""
      ]
     },
     "execution_count": 33,
     "metadata": {},
     "output_type": "execute_result"
    }
   ],
   "source": [
    "s[1..-1]"
   ]
  },
  {
   "cell_type": "code",
   "execution_count": 39,
   "id": "79e92834-23e5-435c-9254-a00288eb6b41",
   "metadata": {},
   "outputs": [
    {
     "data": {
      "text/plain": [
       "\"king\""
      ]
     },
     "execution_count": 39,
     "metadata": {},
     "output_type": "execute_result"
    }
   ],
   "source": [
    "s[/.ing/]"
   ]
  },
  {
   "cell_type": "code",
   "execution_count": 38,
   "id": "9c3fe643-14f3-44fa-b0b3-f459e064d769",
   "metadata": {},
   "outputs": [
    {
     "data": {
      "text/plain": [
       "\"kingdom for a string!\""
      ]
     },
     "execution_count": 38,
     "metadata": {},
     "output_type": "execute_result"
    }
   ],
   "source": [
    "s[/king.*/]"
   ]
  },
  {
   "cell_type": "code",
   "execution_count": 42,
   "id": "9e781b8d-2d94-4fdb-b182-0cdac24e1232",
   "metadata": {},
   "outputs": [
    {
     "data": {
      "text/plain": [
       "\"a string!\""
      ]
     },
     "execution_count": 42,
     "metadata": {},
     "output_type": "execute_result"
    }
   ],
   "source": [
    "s[-9, 9]"
   ]
  },
  {
   "cell_type": "markdown",
   "id": "ae8b1047-836d-4116-b8ac-da9e703f8885",
   "metadata": {},
   "source": [
    "### 2.15 Generating a Succession of Strings"
   ]
  },
  {
   "cell_type": "code",
   "execution_count": 50,
   "id": "a97444c0-0b52-4ed9-aa4e-312722f1d051",
   "metadata": {},
   "outputs": [
    {
     "data": {
      "text/plain": [
       "\"0\"..\"10\""
      ]
     },
     "execution_count": 50,
     "metadata": {},
     "output_type": "execute_result"
    }
   ],
   "source": [
    "('0'..'10')"
   ]
  },
  {
   "cell_type": "code",
   "execution_count": 51,
   "id": "65736d8d-b7c7-4585-97a5-c86530fde439",
   "metadata": {},
   "outputs": [
    {
     "data": {
      "text/plain": [
       "[\"1\", \"2\", \"3\", \"4\", \"5\", \"6\", \"7\", \"8\", \"9\", \"10\"]"
      ]
     },
     "execution_count": 51,
     "metadata": {},
     "output_type": "execute_result"
    }
   ],
   "source": [
    "('1'..'10').to_a"
   ]
  },
  {
   "cell_type": "code",
   "execution_count": 58,
   "id": "53814ab3-d80f-4b6a-a1a1-6add9747ff0f",
   "metadata": {},
   "outputs": [
    {
     "data": {
      "text/plain": [
       "[\"a\", \"b\", \"c\", \"d\", \"e\", \"f\"]"
      ]
     },
     "execution_count": 58,
     "metadata": {},
     "output_type": "execute_result"
    }
   ],
   "source": [
    "(\"a\"..\"f\").to_a"
   ]
  },
  {
   "cell_type": "code",
   "execution_count": 59,
   "id": "14065593-76ee-408f-9bf1-e77c4f249abd",
   "metadata": {},
   "outputs": [
    {
     "data": {
      "text/plain": [
       "[\"0\", \"1\", \"2\", \"3\", \"4\", \"5\", \"6\", \"7\", \"8\", \"9\"]"
      ]
     },
     "execution_count": 59,
     "metadata": {},
     "output_type": "execute_result"
    }
   ],
   "source": [
    "(\"0\"...\"10\").to_a"
   ]
  },
  {
   "cell_type": "code",
   "execution_count": 60,
   "id": "94ef6b21-d728-47e8-b39a-d6326ff0b411",
   "metadata": {},
   "outputs": [
    {
     "data": {
      "text/plain": [
       "[\"ax\", \"ay\", \"az\", \"ba\", \"bb\", \"bc\"]"
      ]
     },
     "execution_count": 60,
     "metadata": {},
     "output_type": "execute_result"
    }
   ],
   "source": [
    "('ax'..'bc').to_a"
   ]
  },
  {
   "cell_type": "code",
   "execution_count": 64,
   "id": "517b8354-6cd0-4d64-bf51-fd53d65b1f90",
   "metadata": {},
   "outputs": [
    {
     "data": {
      "text/plain": [
       "\"b\""
      ]
     },
     "execution_count": 64,
     "metadata": {},
     "output_type": "execute_result"
    }
   ],
   "source": [
    "\"a\".succ"
   ]
  },
  {
   "cell_type": "code",
   "execution_count": 68,
   "id": "49ddb876-5dec-4584-897b-85be2ee27a2b",
   "metadata": {},
   "outputs": [
    {
     "data": {
      "text/plain": [
       "\"ya\""
      ]
     },
     "execution_count": 68,
     "metadata": {},
     "output_type": "execute_result"
    }
   ],
   "source": [
    "\"xz\".succ"
   ]
  },
  {
   "cell_type": "code",
   "execution_count": 65,
   "id": "241fb618-9854-4100-8dcd-e994c91fe179",
   "metadata": {},
   "outputs": [
    {
     "data": {
      "text/plain": [
       "2"
      ]
     },
     "execution_count": 65,
     "metadata": {},
     "output_type": "execute_result"
    }
   ],
   "source": [
    "1.succ"
   ]
  },
  {
   "cell_type": "code",
   "execution_count": 66,
   "id": "c43beede-1adc-4ff7-a2c0-459e5bc39dba",
   "metadata": {},
   "outputs": [
    {
     "data": {
      "text/plain": [
       "2"
      ]
     },
     "execution_count": 66,
     "metadata": {},
     "output_type": "execute_result"
    }
   ],
   "source": [
    "1.next"
   ]
  },
  {
   "cell_type": "code",
   "execution_count": 70,
   "id": "0c7ff005-4fc6-4b99-beb8-dd5e769d038d",
   "metadata": {},
   "outputs": [
    {
     "data": {
      "text/plain": [
       "\"xz9\""
      ]
     },
     "execution_count": 70,
     "metadata": {},
     "output_type": "execute_result"
    }
   ],
   "source": [
    "\"xz8\".succ"
   ]
  },
  {
   "cell_type": "code",
   "execution_count": 71,
   "id": "a79968f7-a93d-4405-bca9-85bccde3ad71",
   "metadata": {},
   "outputs": [
    {
     "data": {
      "text/plain": [
       "\"ya0\""
      ]
     },
     "execution_count": 71,
     "metadata": {},
     "output_type": "execute_result"
    }
   ],
   "source": [
    "\"xz9\".succ"
   ]
  },
  {
   "cell_type": "code",
   "execution_count": 74,
   "id": "4f8de260-5203-40ec-8426-d0cb1f7ad085",
   "metadata": {},
   "outputs": [
    {
     "data": {
      "text/plain": [
       "\"89-90\""
      ]
     },
     "execution_count": 74,
     "metadata": {},
     "output_type": "execute_result"
    }
   ],
   "source": [
    "\"89-89\".succ"
   ]
  },
  {
   "cell_type": "code",
   "execution_count": 75,
   "id": "1383a717-fd22-49d5-9e2a-1b9abe330af0",
   "metadata": {},
   "outputs": [
    {
     "data": {
      "text/plain": [
       "\"90-00\""
      ]
     },
     "execution_count": 75,
     "metadata": {},
     "output_type": "execute_result"
    }
   ],
   "source": [
    "\"89-99\".succ"
   ]
  },
  {
   "cell_type": "code",
   "execution_count": 76,
   "id": "57f55778-5f41-43c9-8efc-0df336318a38",
   "metadata": {},
   "outputs": [
    {
     "data": {
      "text/plain": [
       "\"b-a\""
      ]
     },
     "execution_count": 76,
     "metadata": {},
     "output_type": "execute_result"
    }
   ],
   "source": [
    "\"a-z\".succ"
   ]
  },
  {
   "cell_type": "code",
   "execution_count": 77,
   "id": "7fc44755-089d-425f-8ebc-365246ff3a6f",
   "metadata": {},
   "outputs": [
    {
     "data": {
      "text/plain": [
       "\"100\""
      ]
     },
     "execution_count": 77,
     "metadata": {},
     "output_type": "execute_result"
    }
   ],
   "source": [
    "\"99\".succ"
   ]
  },
  {
   "cell_type": "code",
   "execution_count": 78,
   "id": "8267d1fe-ae2c-4685-a67b-7df36c0527ed",
   "metadata": {},
   "outputs": [
    {
     "data": {
      "text/plain": [
       "\"aaa\""
      ]
     },
     "execution_count": 78,
     "metadata": {},
     "output_type": "execute_result"
    }
   ],
   "source": [
    "\"zz\".succ"
   ]
  }
 ],
 "metadata": {
  "kernelspec": {
   "display_name": "Ruby 3 (iruby kernel)",
   "language": "ruby",
   "name": "ruby3"
  },
  "language_info": {
   "file_extension": ".rb",
   "mimetype": "application/x-ruby",
   "name": "ruby",
   "version": "3.4.3"
  }
 },
 "nbformat": 4,
 "nbformat_minor": 5
}
