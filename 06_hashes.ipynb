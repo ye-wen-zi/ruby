{
 "cells": [
  {
   "cell_type": "markdown",
   "id": "2ac44467-6009-4a45-820a-6c4cb009d194",
   "metadata": {},
   "source": [
    "# Ruby"
   ]
  },
  {
   "cell_type": "markdown",
   "id": "70fc3d9a-c83a-494d-b626-fd07ff2dd78b",
   "metadata": {},
   "source": [
    "## Hashes"
   ]
  },
  {
   "cell_type": "markdown",
   "id": "39d58f52-715c-40ed-9cca-7eca0ce1e70b",
   "metadata": {},
   "source": [
    "### Creating hash and Accessing values"
   ]
  },
  {
   "cell_type": "code",
   "execution_count": 1,
   "id": "90c77a55-9963-4c4b-b4da-9e7fb1181bb5",
   "metadata": {},
   "outputs": [
    {
     "data": {
      "text/plain": [
       "{\"name\"=>\"john\", \"age\"=>21}"
      ]
     },
     "execution_count": 1,
     "metadata": {},
     "output_type": "execute_result"
    }
   ],
   "source": [
    "john = {\n",
    "    'name' => 'john',\n",
    "    'age' => 21\n",
    "}"
   ]
  },
  {
   "cell_type": "code",
   "execution_count": 3,
   "id": "f6e42350-a0b0-4d43-aff4-98695075428a",
   "metadata": {},
   "outputs": [
    {
     "data": {
      "text/plain": [
       "\"john\""
      ]
     },
     "execution_count": 3,
     "metadata": {},
     "output_type": "execute_result"
    }
   ],
   "source": [
    "john['name']"
   ]
  },
  {
   "cell_type": "code",
   "execution_count": 5,
   "id": "32927179-2dbb-414e-997f-bbd84f817292",
   "metadata": {},
   "outputs": [
    {
     "data": {
      "text/plain": [
       "\"john\""
      ]
     },
     "execution_count": 5,
     "metadata": {},
     "output_type": "execute_result"
    }
   ],
   "source": [
    "john.fetch('name')"
   ]
  },
  {
   "cell_type": "code",
   "execution_count": 7,
   "id": "0c44dd75-579b-4c65-a827-388fb0ee2a1e",
   "metadata": {},
   "outputs": [
    {
     "data": {
      "text/plain": [
       "true"
      ]
     },
     "execution_count": 7,
     "metadata": {},
     "output_type": "execute_result"
    }
   ],
   "source": [
    "john['email'] == nil"
   ]
  },
  {
   "cell_type": "code",
   "execution_count": 8,
   "id": "fbde1d7c-fbd6-42ec-8e00-65b4e9d7fd36",
   "metadata": {},
   "outputs": [
    {
     "ename": "KeyError",
     "evalue": "key not found: \"email\"",
     "output_type": "error",
     "traceback": [
      "\u001b[31mKeyError\u001b[0m: key not found: \"email\"",
      "(irb):in `fetch'",
      "(irb):in `<top (required)>'"
     ]
    }
   ],
   "source": [
    "john.fetch('email')"
   ]
  },
  {
   "cell_type": "markdown",
   "id": "6972a1fe-280e-4f46-8fda-c52dc04c0ecd",
   "metadata": {},
   "source": [
    "### Adding and Changing "
   ]
  },
  {
   "cell_type": "code",
   "execution_count": 9,
   "id": "594e7fa6-71db-4e8a-99dd-46e365cc92ff",
   "metadata": {},
   "outputs": [
    {
     "data": {
      "text/plain": [
       "{\"name\"=>\"john\", \"age\"=>21}"
      ]
     },
     "execution_count": 9,
     "metadata": {},
     "output_type": "execute_result"
    }
   ],
   "source": [
    "john"
   ]
  },
  {
   "cell_type": "code",
   "execution_count": 10,
   "id": "20f39d77-4db7-46cd-bbc1-36f04fe8939a",
   "metadata": {},
   "outputs": [
    {
     "data": {
      "text/plain": [
       "\"john123@example.com\""
      ]
     },
     "execution_count": 10,
     "metadata": {},
     "output_type": "execute_result"
    }
   ],
   "source": [
    "john['email'] = 'john123@example.com'"
   ]
  },
  {
   "cell_type": "code",
   "execution_count": 11,
   "id": "534699a8-f532-4cd5-8e5b-2fe9a9943bad",
   "metadata": {},
   "outputs": [
    {
     "data": {
      "text/plain": [
       "{\"name\"=>\"john\", \"age\"=>21, \"email\"=>\"john123@example.com\"}"
      ]
     },
     "execution_count": 11,
     "metadata": {},
     "output_type": "execute_result"
    }
   ],
   "source": [
    "john"
   ]
  },
  {
   "cell_type": "code",
   "execution_count": 12,
   "id": "a959efe4-0771-4a84-b17d-34fc853bda34",
   "metadata": {},
   "outputs": [
    {
     "data": {
      "text/plain": [
       "22"
      ]
     },
     "execution_count": 12,
     "metadata": {},
     "output_type": "execute_result"
    }
   ],
   "source": [
    "john['age'] = 22"
   ]
  },
  {
   "cell_type": "code",
   "execution_count": 13,
   "id": "f1bb2e07-413d-4b79-8513-6011c5d9004b",
   "metadata": {},
   "outputs": [
    {
     "data": {
      "text/plain": [
       "{\"name\"=>\"john\", \"age\"=>22, \"email\"=>\"john123@example.com\"}"
      ]
     },
     "execution_count": 13,
     "metadata": {},
     "output_type": "execute_result"
    }
   ],
   "source": [
    "john"
   ]
  },
  {
   "cell_type": "markdown",
   "id": "c97a7b85-5aaf-442e-800b-895e263a2e58",
   "metadata": {},
   "source": [
    "### Removing data"
   ]
  },
  {
   "cell_type": "code",
   "execution_count": 16,
   "id": "16d94b23-3829-4f34-837c-ba208567eee9",
   "metadata": {},
   "outputs": [
    {
     "ename": "KeyError",
     "evalue": "key not found: \"address\"",
     "output_type": "error",
     "traceback": [
      "\u001b[31mKeyError\u001b[0m: key not found: \"address\"",
      "(irb):in `fetch'",
      "(irb):in `<top (required)>'"
     ]
    }
   ],
   "source": [
    "john.fetch('address')"
   ]
  },
  {
   "cell_type": "code",
   "execution_count": 17,
   "id": "fb09cf33-f936-4f15-883f-47677ff762e1",
   "metadata": {},
   "outputs": [],
   "source": [
    "john.delete('address')"
   ]
  },
  {
   "cell_type": "code",
   "execution_count": 18,
   "id": "24bae6e1-ed2e-499e-a3d2-af7f118e87e6",
   "metadata": {},
   "outputs": [
    {
     "data": {
      "text/plain": [
       "{\"name\"=>\"john\", \"age\"=>22, \"email\"=>\"john123@example.com\"}"
      ]
     },
     "execution_count": 18,
     "metadata": {},
     "output_type": "execute_result"
    }
   ],
   "source": [
    "john"
   ]
  },
  {
   "cell_type": "code",
   "execution_count": 19,
   "id": "40e5d901-9df8-480e-a432-4d1cfa6f5afb",
   "metadata": {},
   "outputs": [
    {
     "data": {
      "text/plain": [
       "\"john123@example.com\""
      ]
     },
     "execution_count": 19,
     "metadata": {},
     "output_type": "execute_result"
    }
   ],
   "source": [
    "john.delete('email')"
   ]
  },
  {
   "cell_type": "code",
   "execution_count": 20,
   "id": "34f33220-a0e0-4436-9d3c-077fbb1b0b8d",
   "metadata": {},
   "outputs": [
    {
     "data": {
      "text/plain": [
       "{\"name\"=>\"john\", \"age\"=>22}"
      ]
     },
     "execution_count": 20,
     "metadata": {},
     "output_type": "execute_result"
    }
   ],
   "source": [
    "john"
   ]
  },
  {
   "cell_type": "markdown",
   "id": "3ee7b978-409a-443c-9865-3eb339d180b9",
   "metadata": {},
   "source": [
    "### Methods"
   ]
  },
  {
   "cell_type": "code",
   "execution_count": 21,
   "id": "d483bf9a-bdf1-4886-a44c-8d09076c1d6a",
   "metadata": {},
   "outputs": [
    {
     "data": {
      "text/plain": [
       "[:update, :merge!, :slice, :has_key?, :merge, :key?, :member?, :compare_by_identity, :value?, :has_value?, :compare_by_identity?, :compact, :==, :<=, :>=, :dig, :[], :[]=, :any?, :deconstruct_keys, :empty?, :eql?, :key, :to_h, :include?, :replace, :clear, :hash, :inspect, :length, :size, :<, :each, :>, :fetch, :to_hash, :to_proc, :to_a, :to_s, :shift, :select!, :filter!, :keep_if, :values_at, :delete_if, :reject!, :pretty_print_cycle, :assoc, :rassoc, :select, :filter, :flatten, :reject, :compact!, :delete, :pretty_print, :rehash, :store, :default=, :default_proc, :default_proc=, :each_value, :default, :each_key, :transform_keys, :transform_keys!, :each_pair, :transform_values, :keys, :values, :transform_values!, :fetch_values, :except, :invert, :to_json, :take_while, :drop, :drop_while, :cycle, :chunk, :slice_before, :slice_after, :slice_when, :chunk_while, :sum, :uniq, :to_set, :chain, :lazy, :max, :min, :find, :entries, :sort, :sort_by, :grep, :grep_v, :count, :detect, :find_index, :find_all, :filter_map, :collect, :map, :flat_map, :collect_concat, :inject, :reduce, :partition, :group_by, :tally, :first, :all?, :one?, :none?, :minmax, :min_by, :max_by, :minmax_by, :each_with_index, :reverse_each, :each_entry, :each_slice, :each_cons, :each_with_object, :zip, :take, :pretty_print_instance_variables, :pretty_print_inspect, :singleton_class, :dup, :itself, :methods, :singleton_methods, :protected_methods, :private_methods, :public_methods, :instance_variables, :instance_variable_get, :instance_variable_set, :instance_variable_defined?, :remove_instance_variable, :instance_of?, :kind_of?, :is_a?, :display, :public_send, :class, :tap, :frozen?, :extend, :yield_self, :then, :clone, :<=>, :===, :!~, :method, :public_method, :singleton_method, :nil?, :respond_to?, :define_singleton_method, :freeze, :object_id, :send, :pretty_inspect, :to_enum, :enum_for, :equal?, :!, :__send__, :!=, :__id__, :instance_eval, :instance_exec]"
      ]
     },
     "execution_count": 21,
     "metadata": {},
     "output_type": "execute_result"
    }
   ],
   "source": [
    "john.methods"
   ]
  },
  {
   "cell_type": "code",
   "execution_count": 22,
   "id": "a467a954-7b78-45aa-8a93-ba0d628b55c9",
   "metadata": {},
   "outputs": [
    {
     "data": {
      "text/plain": [
       "[\"name\", \"age\"]"
      ]
     },
     "execution_count": 22,
     "metadata": {},
     "output_type": "execute_result"
    }
   ],
   "source": [
    "john.keys"
   ]
  },
  {
   "cell_type": "code",
   "execution_count": 23,
   "id": "9cfed288-298a-465f-a08a-cca6d9918fef",
   "metadata": {},
   "outputs": [
    {
     "data": {
      "text/plain": [
       "[\"john\", 22]"
      ]
     },
     "execution_count": 23,
     "metadata": {},
     "output_type": "execute_result"
    }
   ],
   "source": [
    "john.values"
   ]
  },
  {
   "cell_type": "markdown",
   "id": "fb0d548e-893a-4139-b729-42629e6909b4",
   "metadata": {},
   "source": [
    "### Merging"
   ]
  },
  {
   "cell_type": "code",
   "execution_count": 24,
   "id": "c2c2025c-b507-4cca-b842-18bb77dac162",
   "metadata": {},
   "outputs": [
    {
     "data": {
      "text/plain": [
       "{1=>\"one\", 2=>\"second\", 3=>\"third\"}"
      ]
     },
     "execution_count": 24,
     "metadata": {},
     "output_type": "execute_result"
    }
   ],
   "source": [
    "{ 1 => 'one', 2 => 'two' }.merge({ 2 => 'second', 3 => 'third' })"
   ]
  },
  {
   "cell_type": "markdown",
   "id": "f13cccfe-0675-4d4b-afbe-41f29d4a6dd3",
   "metadata": {},
   "source": [
    "### Symbols as hash keys"
   ]
  },
  {
   "cell_type": "markdown",
   "id": "9431a80c-49db-4774-bf7c-72aba85fd812",
   "metadata": {},
   "source": [
    "In this lesson, we mostly used strings for hash keys, but in the real world, you’ll almost always see symbols (like :this_guy) used as keys. This is predominantly because symbols are far more performant than strings in Ruby, but they also allow for a much cleaner syntax when defining hashes. Behold the beauty:"
   ]
  },
  {
   "cell_type": "code",
   "execution_count": 25,
   "id": "4958c3a5-bc06-4f47-a39c-6942453fbd7b",
   "metadata": {},
   "outputs": [
    {
     "data": {
      "text/plain": [
       "{:name=>\"Piter\", :age=>20}"
      ]
     },
     "execution_count": 25,
     "metadata": {},
     "output_type": "execute_result"
    }
   ],
   "source": [
    "# 'Rocket' syntax\n",
    "piter = {\n",
    "    :name => 'Piter',\n",
    "    :age => 20\n",
    "}"
   ]
  },
  {
   "cell_type": "code",
   "execution_count": 26,
   "id": "b5df08f6-68cd-4fd5-8dd4-263eeeec5bf3",
   "metadata": {},
   "outputs": [
    {
     "data": {
      "text/plain": [
       "{:name=>\"Susan\", :age=>19}"
      ]
     },
     "execution_count": 26,
     "metadata": {},
     "output_type": "execute_result"
    }
   ],
   "source": [
    "# 'Symbols' syntax\n",
    "susan = {\n",
    "    name: 'Susan',\n",
    "    age: 19\n",
    "}"
   ]
  },
  {
   "cell_type": "code",
   "execution_count": 27,
   "id": "d5db2620-8499-4fb5-a407-2a632afd53a7",
   "metadata": {},
   "outputs": [
    {
     "data": {
      "text/plain": [
       "\"Susan\""
      ]
     },
     "execution_count": 27,
     "metadata": {},
     "output_type": "execute_result"
    }
   ],
   "source": [
    "susan[:name]"
   ]
  },
  {
   "cell_type": "code",
   "execution_count": null,
   "id": "3661aa09-32df-4185-ae0b-3518e2b0cf68",
   "metadata": {},
   "outputs": [],
   "source": []
  }
 ],
 "metadata": {
  "kernelspec": {
   "display_name": "Ruby 3 (iruby kernel)",
   "language": "ruby",
   "name": "ruby3"
  },
  "language_info": {
   "file_extension": ".rb",
   "mimetype": "application/x-ruby",
   "name": "ruby",
   "version": "3.3.8"
  }
 },
 "nbformat": 4,
 "nbformat_minor": 5
}
