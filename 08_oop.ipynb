{
 "cells": [
  {
   "cell_type": "markdown",
   "id": "9039ed2b-c46f-4188-a450-6549cec69dca",
   "metadata": {},
   "source": [
    "[Object-Oriented Programming](https://www.rubyguides.com/ruby-tutorial/object-oriented-programming/)"
   ]
  }
 ],
 "metadata": {
  "kernelspec": {
   "display_name": "Ruby 3 (iruby kernel)",
   "language": "ruby",
   "name": "ruby3"
  },
  "language_info": {
   "file_extension": ".rb",
   "mimetype": "application/x-ruby",
   "name": "ruby",
   "version": "3.3.8"
  }
 },
 "nbformat": 4,
 "nbformat_minor": 5
}
