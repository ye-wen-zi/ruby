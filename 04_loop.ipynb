{
 "cells": [
  {
   "cell_type": "markdown",
   "id": "49ef159a-5028-4fc5-85b9-b63a1d6ecb33",
   "metadata": {},
   "source": [
    "# Ruby"
   ]
  },
  {
   "cell_type": "markdown",
   "id": "da9aa43f-9955-4b9f-b4a3-9ed8c0382ee1",
   "metadata": {},
   "source": [
    "## Loop"
   ]
  },
  {
   "cell_type": "markdown",
   "id": "cbf48888-f613-4f72-86ed-886704f13fe5",
   "metadata": {},
   "source": [
    "### While loop"
   ]
  },
  {
   "cell_type": "code",
   "execution_count": 2,
   "id": "910ac0cd-32a4-496e-af8b-f7330d0cbe19",
   "metadata": {},
   "outputs": [
    {
     "name": "stdout",
     "output_type": "stream",
     "text": [
      "0 1 2 "
     ]
    }
   ],
   "source": [
    "i = 0\n",
    "\n",
    "while i < 3 do\n",
    "    print \"#{i} \"\n",
    "    i += 1\n",
    "end"
   ]
  },
  {
   "cell_type": "markdown",
   "id": "177c5c76-b41e-4b96-b744-e885072b2c36",
   "metadata": {},
   "source": [
    "### Until loop"
   ]
  },
  {
   "cell_type": "code",
   "execution_count": 4,
   "id": "2cf1089c-4201-49ac-8ad2-4f3cd725ae2b",
   "metadata": {},
   "outputs": [
    {
     "name": "stdout",
     "output_type": "stream",
     "text": [
      "0 1 2 "
     ]
    }
   ],
   "source": [
    "i = 0 \n",
    "\n",
    "until i >= 3\n",
    "    print \"#{i} \"\n",
    "    i += 1\n",
    "end"
   ]
  },
  {
   "cell_type": "markdown",
   "id": "99806919-e292-4675-975f-f1d4774517c3",
   "metadata": {},
   "source": [
    "### Range"
   ]
  },
  {
   "cell_type": "code",
   "execution_count": 7,
   "id": "c979609c-e24a-43e8-b256-5ca4de5041b8",
   "metadata": {},
   "outputs": [
    {
     "data": {
      "text/plain": [
       "1..10"
      ]
     },
     "execution_count": 7,
     "metadata": {},
     "output_type": "execute_result"
    }
   ],
   "source": [
    "(1..10) # including 10"
   ]
  },
  {
   "cell_type": "code",
   "execution_count": 8,
   "id": "295b8bb0-0049-42e9-aeff-5cff4ad1c53f",
   "metadata": {},
   "outputs": [
    {
     "data": {
      "text/plain": [
       "1...10"
      ]
     },
     "execution_count": 8,
     "metadata": {},
     "output_type": "execute_result"
    }
   ],
   "source": [
    "(1...10) # excluding 10"
   ]
  },
  {
   "cell_type": "code",
   "execution_count": 21,
   "id": "83c549f4-71da-4431-996d-268a12ebf607",
   "metadata": {},
   "outputs": [
    {
     "data": {
      "text/plain": [
       "\"a\"...\"f\""
      ]
     },
     "execution_count": 21,
     "metadata": {},
     "output_type": "execute_result"
    }
   ],
   "source": [
    "('a'...'f')"
   ]
  },
  {
   "cell_type": "markdown",
   "id": "930166fb-b395-4c18-82c5-f9f2219e20d9",
   "metadata": {},
   "source": [
    "### For loop"
   ]
  },
  {
   "cell_type": "code",
   "execution_count": 9,
   "id": "ec206b48-cda2-4a88-98cf-e8fd82ddd314",
   "metadata": {},
   "outputs": [
    {
     "name": "stdout",
     "output_type": "stream",
     "text": [
      "1 2 3 4 5 6 7 8 9 10 "
     ]
    },
    {
     "data": {
      "text/plain": [
       "1..10"
      ]
     },
     "execution_count": 9,
     "metadata": {},
     "output_type": "execute_result"
    }
   ],
   "source": [
    "for num in (1..10) do\n",
    "    print \"#{num} \"\n",
    "end"
   ]
  },
  {
   "cell_type": "code",
   "execution_count": 10,
   "id": "2d57d43e-e368-443f-bf51-cb8ff6c93c71",
   "metadata": {},
   "outputs": [
    {
     "name": "stdout",
     "output_type": "stream",
     "text": [
      "1 2 3 4 5 6 7 8 9 "
     ]
    },
    {
     "data": {
      "text/plain": [
       "1...10"
      ]
     },
     "execution_count": 10,
     "metadata": {},
     "output_type": "execute_result"
    }
   ],
   "source": [
    "for num in (1...10) do\n",
    "    print \"#{num} \"\n",
    "end"
   ]
  },
  {
   "cell_type": "code",
   "execution_count": 23,
   "id": "7e62a040-7c8b-4936-94d9-b62d863f7e52",
   "metadata": {},
   "outputs": [
    {
     "name": "stdout",
     "output_type": "stream",
     "text": [
      "a b c d e f g h i j k l m n o p q r s t u v w x y z "
     ]
    },
    {
     "data": {
      "text/plain": [
       "\"a\"..\"z\""
      ]
     },
     "execution_count": 23,
     "metadata": {},
     "output_type": "execute_result"
    }
   ],
   "source": [
    "for char_ in ('a'..'z') do\n",
    "    print \"#{char_} \" \n",
    "end"
   ]
  },
  {
   "cell_type": "markdown",
   "id": "a13d360c-82df-4386-a840-1559b6173b28",
   "metadata": {},
   "source": [
    "### Times loop"
   ]
  },
  {
   "cell_type": "code",
   "execution_count": 13,
   "id": "ca521a25-1f21-4632-9e90-9bceaaf99398",
   "metadata": {},
   "outputs": [
    {
     "name": "stdout",
     "output_type": "stream",
     "text": [
      "Hello world! \n",
      "Hello world! \n",
      "Hello world! \n"
     ]
    },
    {
     "data": {
      "text/plain": [
       "3"
      ]
     },
     "execution_count": 13,
     "metadata": {},
     "output_type": "execute_result"
    }
   ],
   "source": [
    "3.times do\n",
    "    puts \"Hello world! \"\n",
    "end"
   ]
  },
  {
   "cell_type": "code",
   "execution_count": 20,
   "id": "ee3fd92f-031b-409d-95bd-ac2f760f8bdb",
   "metadata": {},
   "outputs": [
    {
     "name": "stdout",
     "output_type": "stream",
     "text": [
      "Alternative fact number: 0 \n",
      "Alternative fact number: 1 \n",
      "Alternative fact number: 2 \n"
     ]
    },
    {
     "data": {
      "text/plain": [
       "3"
      ]
     },
     "execution_count": 20,
     "metadata": {},
     "output_type": "execute_result"
    }
   ],
   "source": [
    "3.times do |num| \n",
    "    puts \"Alternative fact number: #{num} \"\n",
    "end"
   ]
  },
  {
   "cell_type": "markdown",
   "id": "2a039850-00bb-43e1-9d0b-e9302ac62321",
   "metadata": {},
   "source": [
    "### UpTo and DownTo"
   ]
  },
  {
   "cell_type": "code",
   "execution_count": 24,
   "id": "d1da7b94-4e74-4bf9-ae14-36377c8eb263",
   "metadata": {},
   "outputs": [
    {
     "name": "stdout",
     "output_type": "stream",
     "text": [
      "1 2 3 4 5 6 7 8 9 10 "
     ]
    },
    {
     "data": {
      "text/plain": [
       "1"
      ]
     },
     "execution_count": 24,
     "metadata": {},
     "output_type": "execute_result"
    }
   ],
   "source": [
    "1.upto(10) { |num| print \"#{num} \" }"
   ]
  },
  {
   "cell_type": "code",
   "execution_count": 25,
   "id": "b821e07c-077b-4b05-a529-f84742e7d29e",
   "metadata": {},
   "outputs": [
    {
     "name": "stdout",
     "output_type": "stream",
     "text": [
      "10 9 8 7 6 5 4 3 2 1 0 "
     ]
    },
    {
     "data": {
      "text/plain": [
       "10"
      ]
     },
     "execution_count": 25,
     "metadata": {},
     "output_type": "execute_result"
    }
   ],
   "source": [
    "10.downto(0) { |num| print \"#{num} \" }"
   ]
  }
 ],
 "metadata": {
  "kernelspec": {
   "display_name": "Ruby 3 (iruby kernel)",
   "language": "ruby",
   "name": "ruby3"
  },
  "language_info": {
   "file_extension": ".rb",
   "mimetype": "application/x-ruby",
   "name": "ruby",
   "version": "3.3.8"
  }
 },
 "nbformat": 4,
 "nbformat_minor": 5
}
