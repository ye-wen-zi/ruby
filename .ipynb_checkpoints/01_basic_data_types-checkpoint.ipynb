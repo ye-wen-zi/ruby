{
 "cells": [
  {
   "cell_type": "markdown",
   "id": "d3d14b02-c523-43c9-b56e-a7108b41335e",
   "metadata": {},
   "source": [
    "# Ruby"
   ]
  },
  {
   "cell_type": "markdown",
   "id": "19d1ad19-ed9c-42b3-8e24-254d296c35ee",
   "metadata": {},
   "source": [
    "## Basic Data Types"
   ]
  },
  {
   "cell_type": "markdown",
   "id": "5a81be42-abd3-41a3-b48f-5263a6ae3c95",
   "metadata": {
    "jp-MarkdownHeadingCollapsed": true
   },
   "source": [
    "### Numbers"
   ]
  },
  {
   "cell_type": "code",
   "execution_count": 3,
   "id": "849d7a6b-e754-4417-b1f7-151d2fb1b163",
   "metadata": {},
   "outputs": [
    {
     "data": {
      "text/plain": [
       "4"
      ]
     },
     "execution_count": 3,
     "metadata": {},
     "output_type": "execute_result"
    }
   ],
   "source": [
    "# integer\n",
    "9 / 2"
   ]
  },
  {
   "cell_type": "code",
   "execution_count": 4,
   "id": "0644e18c-4b21-4bdd-ae22-a3b9efe4eb66",
   "metadata": {},
   "outputs": [
    {
     "data": {
      "text/plain": [
       "4.5"
      ]
     },
     "execution_count": 4,
     "metadata": {},
     "output_type": "execute_result"
    }
   ],
   "source": [
    "# float\n",
    "9 / 2.0"
   ]
  },
  {
   "cell_type": "code",
   "execution_count": 5,
   "id": "c3cf29f7-01ab-447f-93cd-0d9e512054de",
   "metadata": {},
   "outputs": [
    {
     "data": {
      "text/plain": [
       "4.0"
      ]
     },
     "execution_count": 5,
     "metadata": {},
     "output_type": "execute_result"
    }
   ],
   "source": [
    "4.to_f"
   ]
  },
  {
   "cell_type": "code",
   "execution_count": 6,
   "id": "b898a765-7a0c-4897-b5f1-ad8df7cf93bb",
   "metadata": {},
   "outputs": [
    {
     "data": {
      "text/plain": [
       "4"
      ]
     },
     "execution_count": 6,
     "metadata": {},
     "output_type": "execute_result"
    }
   ],
   "source": [
    "4.9.to_i"
   ]
  },
  {
   "cell_type": "code",
   "execution_count": 7,
   "id": "d9027064-c560-4b3a-8a96-a31ae01fb72e",
   "metadata": {},
   "outputs": [
    {
     "data": {
      "text/plain": [
       "true"
      ]
     },
     "execution_count": 7,
     "metadata": {},
     "output_type": "execute_result"
    }
   ],
   "source": [
    "2.even?"
   ]
  },
  {
   "cell_type": "code",
   "execution_count": 8,
   "id": "4f398c34-1cb5-4592-8a61-6fb3b0fa44db",
   "metadata": {},
   "outputs": [
    {
     "data": {
      "text/plain": [
       "false"
      ]
     },
     "execution_count": 8,
     "metadata": {},
     "output_type": "execute_result"
    }
   ],
   "source": [
    "8.odd?"
   ]
  },
  {
   "cell_type": "markdown",
   "id": "f1332c16-2b94-4357-9dab-77ba7d90f9d7",
   "metadata": {
    "jp-MarkdownHeadingCollapsed": true
   },
   "source": [
    "### Strings"
   ]
  },
  {
   "cell_type": "markdown",
   "id": "14e92bbe-86e0-474a-b127-d11110653793",
   "metadata": {},
   "source": [
    "#### Conncatenation"
   ]
  },
  {
   "cell_type": "code",
   "execution_count": 9,
   "id": "62c9d5ff-f136-4b3c-bf35-06575acf4b12",
   "metadata": {},
   "outputs": [
    {
     "data": {
      "text/plain": [
       "\"Hello world!\""
      ]
     },
     "execution_count": 9,
     "metadata": {},
     "output_type": "execute_result"
    }
   ],
   "source": [
    "\"Hello\" + ' world!'"
   ]
  },
  {
   "cell_type": "code",
   "execution_count": 11,
   "id": "7484ef8b-51a4-4154-9d45-ba21b88d9fdb",
   "metadata": {},
   "outputs": [
    {
     "data": {
      "text/plain": [
       "\"Hello world!\""
      ]
     },
     "execution_count": 11,
     "metadata": {},
     "output_type": "execute_result"
    }
   ],
   "source": [
    "'Hello' << ' world!'"
   ]
  },
  {
   "cell_type": "code",
   "execution_count": 12,
   "id": "c7407c89-4737-4e0d-ab08-192e461a4d2b",
   "metadata": {},
   "outputs": [
    {
     "data": {
      "text/plain": [
       "\"Hello world!\""
      ]
     },
     "execution_count": 12,
     "metadata": {},
     "output_type": "execute_result"
    }
   ],
   "source": [
    "'Hello'.concat(' world!')"
   ]
  },
  {
   "cell_type": "markdown",
   "id": "43ec8467-cd3a-4262-9f94-68e7c3216094",
   "metadata": {},
   "source": [
    "#### Substrings"
   ]
  },
  {
   "cell_type": "code",
   "execution_count": 13,
   "id": "bf72a24e-62da-43de-9df2-05519db9f35e",
   "metadata": {},
   "outputs": [
    {
     "data": {
      "text/plain": [
       "\"H\""
      ]
     },
     "execution_count": 13,
     "metadata": {},
     "output_type": "execute_result"
    }
   ],
   "source": [
    "'Hello'[0]"
   ]
  },
  {
   "cell_type": "code",
   "execution_count": 18,
   "id": "71a2f7ac-7667-495c-a7d4-a9d739696d28",
   "metadata": {},
   "outputs": [
    {
     "data": {
      "text/plain": [
       "\"Hell\""
      ]
     },
     "execution_count": 18,
     "metadata": {},
     "output_type": "execute_result"
    }
   ],
   "source": [
    "'Hello'[0..3]"
   ]
  },
  {
   "cell_type": "code",
   "execution_count": 19,
   "id": "1521f833-64a9-4a10-962e-3bae2fcd7c61",
   "metadata": {},
   "outputs": [
    {
     "data": {
      "text/plain": [
       "\"Hel\""
      ]
     },
     "execution_count": 19,
     "metadata": {},
     "output_type": "execute_result"
    }
   ],
   "source": [
    "'Hello'[0, 3]"
   ]
  },
  {
   "cell_type": "code",
   "execution_count": 20,
   "id": "f6be4667-8c7f-4ab4-8c64-9c8c02edf70c",
   "metadata": {},
   "outputs": [
    {
     "data": {
      "text/plain": [
       "\"o\""
      ]
     },
     "execution_count": 20,
     "metadata": {},
     "output_type": "execute_result"
    }
   ],
   "source": [
    "'Hello'[-1]"
   ]
  },
  {
   "cell_type": "markdown",
   "id": "6f0c845b-e9c3-42a2-8c4a-b059e8a7b60e",
   "metadata": {},
   "source": [
    "#### Interpolation"
   ]
  },
  {
   "cell_type": "code",
   "execution_count": 23,
   "id": "3423e7cc-cf69-489a-8e43-e9c880862518",
   "metadata": {},
   "outputs": [
    {
     "name": "stdout",
     "output_type": "stream",
     "text": [
      "Hello ye wen zi!\n",
      "Hello #{name}!\n"
     ]
    }
   ],
   "source": [
    "name = 'ye wen zi'\n",
    "\n",
    "puts \"Hello #{name}!\"\n",
    "puts 'Hello #{name}!'"
   ]
  },
  {
   "cell_type": "markdown",
   "id": "00586330-a048-43b7-b14f-7a41c56c8fd7",
   "metadata": {},
   "source": [
    "#### Comon string methods"
   ]
  },
  {
   "cell_type": "code",
   "execution_count": 24,
   "id": "f3b35d52-be81-4c06-b533-0251e3714f1d",
   "metadata": {},
   "outputs": [
    {
     "data": {
      "text/plain": [
       "\"Hello world!\""
      ]
     },
     "execution_count": 24,
     "metadata": {},
     "output_type": "execute_result"
    }
   ],
   "source": [
    "'hello world!'.capitalize"
   ]
  },
  {
   "cell_type": "code",
   "execution_count": 27,
   "id": "97338524-3d3d-4ffc-9205-fe9a35306881",
   "metadata": {},
   "outputs": [
    {
     "data": {
      "text/plain": [
       "true"
      ]
     },
     "execution_count": 27,
     "metadata": {},
     "output_type": "execute_result"
    }
   ],
   "source": [
    "'Hello'.include?('He')"
   ]
  },
  {
   "cell_type": "code",
   "execution_count": 28,
   "id": "22533925-4919-486c-842d-6d1bcf322726",
   "metadata": {},
   "outputs": [
    {
     "data": {
      "text/plain": [
       "\"HELLO\""
      ]
     },
     "execution_count": 28,
     "metadata": {},
     "output_type": "execute_result"
    }
   ],
   "source": [
    "'HeLlo'.upcase"
   ]
  },
  {
   "cell_type": "code",
   "execution_count": 29,
   "id": "fd58cc5c-1bea-49a1-af4a-f624066bc2ce",
   "metadata": {},
   "outputs": [
    {
     "data": {
      "text/plain": [
       "\"hello\""
      ]
     },
     "execution_count": 29,
     "metadata": {},
     "output_type": "execute_result"
    }
   ],
   "source": [
    "'HeLlo'.downcase"
   ]
  },
  {
   "cell_type": "code",
   "execution_count": 33,
   "id": "3e8a31f8-44d3-43f5-9b3e-cc6232cb3a55",
   "metadata": {},
   "outputs": [
    {
     "data": {
      "text/plain": [
       "true"
      ]
     },
     "execution_count": 33,
     "metadata": {},
     "output_type": "execute_result"
    }
   ],
   "source": [
    "''.empty?"
   ]
  },
  {
   "cell_type": "code",
   "execution_count": 34,
   "id": "ac37af10-2056-48a2-afc2-10f78e399f48",
   "metadata": {},
   "outputs": [
    {
     "data": {
      "text/plain": [
       "false"
      ]
     },
     "execution_count": 34,
     "metadata": {},
     "output_type": "execute_result"
    }
   ],
   "source": [
    "' '.empty?"
   ]
  },
  {
   "cell_type": "code",
   "execution_count": 35,
   "id": "3c6039df-7623-4ddd-a71e-c5d838a05d74",
   "metadata": {},
   "outputs": [
    {
     "data": {
      "text/plain": [
       "11"
      ]
     },
     "execution_count": 35,
     "metadata": {},
     "output_type": "execute_result"
    }
   ],
   "source": [
    "'hello world'.length"
   ]
  },
  {
   "cell_type": "code",
   "execution_count": 36,
   "id": "ef4aaad0-0b3e-46dc-b420-f975f6130fc1",
   "metadata": {},
   "outputs": [
    {
     "data": {
      "text/plain": [
       "\"olleH\""
      ]
     },
     "execution_count": 36,
     "metadata": {},
     "output_type": "execute_result"
    }
   ],
   "source": [
    "'Hello'.reverse"
   ]
  },
  {
   "cell_type": "code",
   "execution_count": 37,
   "id": "69200fa0-edc2-46a9-a892-c2350cd2169a",
   "metadata": {},
   "outputs": [
    {
     "data": {
      "text/plain": [
       "[\"Hello\", \"world!\"]"
      ]
     },
     "execution_count": 37,
     "metadata": {},
     "output_type": "execute_result"
    }
   ],
   "source": [
    "'Hello world!'.split"
   ]
  },
  {
   "cell_type": "code",
   "execution_count": 39,
   "id": "220baf74-27b4-474d-933c-84f12a8c5f8f",
   "metadata": {},
   "outputs": [
    {
     "data": {
      "text/plain": [
       "[\"H\", \"e\", \"l\", \"l\", \"o\", \"w\", \"o\", \"r\", \"l\", \"d\"]"
      ]
     },
     "execution_count": 39,
     "metadata": {},
     "output_type": "execute_result"
    }
   ],
   "source": [
    "'Helloworld'.split('')"
   ]
  },
  {
   "cell_type": "code",
   "execution_count": 40,
   "id": "c2610fa9-5ad9-4625-871c-86993770364c",
   "metadata": {},
   "outputs": [
    {
     "data": {
      "text/plain": [
       "\"Hello world!\""
      ]
     },
     "execution_count": 40,
     "metadata": {},
     "output_type": "execute_result"
    }
   ],
   "source": [
    "'  Hello world!  '.strip"
   ]
  },
  {
   "cell_type": "code",
   "execution_count": 41,
   "id": "1c1fe5e1-44b1-4fb6-b468-bdbe43557b0e",
   "metadata": {},
   "outputs": [
    {
     "data": {
      "text/plain": [
       "\"Hel7o\""
      ]
     },
     "execution_count": 41,
     "metadata": {},
     "output_type": "execute_result"
    }
   ],
   "source": [
    "'He77o'.sub('7', 'l')"
   ]
  },
  {
   "cell_type": "code",
   "execution_count": 42,
   "id": "1622931a-5014-4f7e-908d-241b470505a5",
   "metadata": {},
   "outputs": [
    {
     "data": {
      "text/plain": [
       "\"Hello\""
      ]
     },
     "execution_count": 42,
     "metadata": {},
     "output_type": "execute_result"
    }
   ],
   "source": [
    "'He77o'.gsub('7', 'l')"
   ]
  },
  {
   "cell_type": "code",
   "execution_count": 44,
   "id": "bef51843-0970-40d9-a1ad-da53fbd81fb4",
   "metadata": {},
   "outputs": [
    {
     "data": {
      "text/plain": [
       "\"Hello world!\""
      ]
     },
     "execution_count": 44,
     "metadata": {},
     "output_type": "execute_result"
    }
   ],
   "source": [
    "'Hello'.insert(-1, ' world!')"
   ]
  },
  {
   "cell_type": "code",
   "execution_count": 45,
   "id": "e2290c20-8117-40e5-853a-337976b75394",
   "metadata": {},
   "outputs": [
    {
     "data": {
      "text/plain": [
       "\"Heo word!\""
      ]
     },
     "execution_count": 45,
     "metadata": {},
     "output_type": "execute_result"
    }
   ],
   "source": [
    "'Hello world!'.delete('l')"
   ]
  },
  {
   "cell_type": "code",
   "execution_count": 47,
   "id": "64cfc1ff-bff7-4cf6-a0f1-5f586ed6886f",
   "metadata": {},
   "outputs": [
    {
     "data": {
      "text/plain": [
       "\"Hello world!\""
      ]
     },
     "execution_count": 47,
     "metadata": {},
     "output_type": "execute_result"
    }
   ],
   "source": [
    "'!'.prepend('Hello', ' world')"
   ]
  },
  {
   "cell_type": "markdown",
   "id": "9113ca57-f322-47d6-bcdc-f3ee305be628",
   "metadata": {},
   "source": [
    "#### Convert other objects to strings"
   ]
  },
  {
   "cell_type": "code",
   "execution_count": 48,
   "id": "7e6a5887-c3a0-46c0-add7-0f64724f225b",
   "metadata": {},
   "outputs": [
    {
     "data": {
      "text/plain": [
       "\"1\""
      ]
     },
     "execution_count": 48,
     "metadata": {},
     "output_type": "execute_result"
    }
   ],
   "source": [
    "1.to_s"
   ]
  },
  {
   "cell_type": "code",
   "execution_count": 49,
   "id": "a6595e2f-ed9d-4347-9fb0-a7bb60ca0561",
   "metadata": {},
   "outputs": [
    {
     "data": {
      "text/plain": [
       "\"\""
      ]
     },
     "execution_count": 49,
     "metadata": {},
     "output_type": "execute_result"
    }
   ],
   "source": [
    "nil.to_s"
   ]
  },
  {
   "cell_type": "code",
   "execution_count": 50,
   "id": "aebd0f52-bb6c-4df1-8f64-148429f16a49",
   "metadata": {},
   "outputs": [
    {
     "data": {
      "text/plain": [
       "\"symbol\""
      ]
     },
     "execution_count": 50,
     "metadata": {},
     "output_type": "execute_result"
    }
   ],
   "source": [
    ":symbol.to_s"
   ]
  },
  {
   "cell_type": "markdown",
   "id": "41ce4751-bf75-41bf-b155-dba04f07fffa",
   "metadata": {
    "jp-MarkdownHeadingCollapsed": true
   },
   "source": [
    "### Symbols"
   ]
  },
  {
   "cell_type": "code",
   "execution_count": 51,
   "id": "88f56b8e-aa96-4684-bebe-e0efc390ae4d",
   "metadata": {},
   "outputs": [
    {
     "data": {
      "text/plain": [
       ":my_symbol"
      ]
     },
     "execution_count": 51,
     "metadata": {},
     "output_type": "execute_result"
    }
   ],
   "source": [
    ":my_symbol"
   ]
  },
  {
   "cell_type": "code",
   "execution_count": 52,
   "id": "47a604d1-8fd9-41cd-bed0-17cee66c0b4a",
   "metadata": {},
   "outputs": [
    {
     "data": {
      "text/plain": [
       "true"
      ]
     },
     "execution_count": 52,
     "metadata": {},
     "output_type": "execute_result"
    }
   ],
   "source": [
    "'hello' == 'hello'"
   ]
  },
  {
   "cell_type": "code",
   "execution_count": 53,
   "id": "8a97c8ae-124a-4dfe-bb79-27905e75fa90",
   "metadata": {},
   "outputs": [
    {
     "data": {
      "text/plain": [
       "false"
      ]
     },
     "execution_count": 53,
     "metadata": {},
     "output_type": "execute_result"
    }
   ],
   "source": [
    "'hello'.object_id == 'hello'.object_id"
   ]
  },
  {
   "cell_type": "code",
   "execution_count": 54,
   "id": "daef672a-fd0e-43b5-abe2-e94593f566d3",
   "metadata": {},
   "outputs": [
    {
     "data": {
      "text/plain": [
       "true"
      ]
     },
     "execution_count": 54,
     "metadata": {},
     "output_type": "execute_result"
    }
   ],
   "source": [
    ":hello.object_id == :hello.object_id"
   ]
  },
  {
   "cell_type": "markdown",
   "id": "60147567-3114-4cb5-9c8f-9081db565200",
   "metadata": {
    "jp-MarkdownHeadingCollapsed": true
   },
   "source": [
    "### Booleans"
   ]
  },
  {
   "cell_type": "markdown",
   "id": "9a06d3e4-6658-4de7-a2b0-ed0ff5544e42",
   "metadata": {},
   "source": [
    "```ruby\n",
    "true, false, nil\n",
    "```"
   ]
  }
 ],
 "metadata": {
  "kernelspec": {
   "display_name": "Ruby 3 (iruby kernel)",
   "language": "ruby",
   "name": "ruby3"
  },
  "language_info": {
   "file_extension": ".rb",
   "mimetype": "application/x-ruby",
   "name": "ruby",
   "version": "3.3.8"
  }
 },
 "nbformat": 4,
 "nbformat_minor": 5
}
