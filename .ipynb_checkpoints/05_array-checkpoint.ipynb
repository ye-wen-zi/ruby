{
 "cells": [
  {
   "cell_type": "markdown",
   "id": "223edfcf-b8ad-4289-9e23-891a9bcf12b4",
   "metadata": {},
   "source": [
    "# Ruby"
   ]
  },
  {
   "cell_type": "markdown",
   "id": "a0ed3266-c1d2-40ac-b044-65fcc2cd9d3d",
   "metadata": {},
   "source": [
    "## Array"
   ]
  },
  {
   "cell_type": "markdown",
   "id": "613bd67f-6647-4f35-b0fc-fe9b8a26ee59",
   "metadata": {
    "jp-MarkdownHeadingCollapsed": true
   },
   "source": [
    "### Creating array"
   ]
  },
  {
   "cell_type": "code",
   "execution_count": 1,
   "id": "1ee59853-2f24-4b75-81fd-b9485590010c",
   "metadata": {},
   "outputs": [
    {
     "data": {
      "text/plain": [
       "[0, 1, 2, 3]"
      ]
     },
     "execution_count": 1,
     "metadata": {},
     "output_type": "execute_result"
    }
   ],
   "source": [
    "nums = [0, 1, 2, 3]"
   ]
  },
  {
   "cell_type": "code",
   "execution_count": 3,
   "id": "4e8e29bc-db49-485e-b6e4-193ee989f5b1",
   "metadata": {},
   "outputs": [
    {
     "data": {
      "text/plain": [
       "true"
      ]
     },
     "execution_count": 3,
     "metadata": {},
     "output_type": "execute_result"
    }
   ],
   "source": [
    "nums == [0, 1, 2, 3]"
   ]
  },
  {
   "cell_type": "code",
   "execution_count": 4,
   "id": "7411905b-c2f0-4436-919a-49a2647c46fc",
   "metadata": {},
   "outputs": [
    {
     "data": {
      "text/plain": [
       "[\"This\", \"is\", \"a\", \"small\", \"array\"]"
      ]
     },
     "execution_count": 4,
     "metadata": {},
     "output_type": "execute_result"
    }
   ],
   "source": [
    "str_arr = ['This', 'is', 'a', 'small', 'array']"
   ]
  },
  {
   "cell_type": "code",
   "execution_count": 5,
   "id": "2d6a5d85-72ec-4a8d-9346-dc6861e817dd",
   "metadata": {},
   "outputs": [
    {
     "data": {
      "text/plain": [
       "[]"
      ]
     },
     "execution_count": 5,
     "metadata": {},
     "output_type": "execute_result"
    }
   ],
   "source": [
    "Array.new"
   ]
  },
  {
   "cell_type": "code",
   "execution_count": 6,
   "id": "78a386bb-5de5-4b44-b94c-ba364c560a3f",
   "metadata": {},
   "outputs": [
    {
     "data": {
      "text/plain": [
       "[nil, nil, nil]"
      ]
     },
     "execution_count": 6,
     "metadata": {},
     "output_type": "execute_result"
    }
   ],
   "source": [
    "Array.new(3)"
   ]
  },
  {
   "cell_type": "code",
   "execution_count": 7,
   "id": "89309545-e80d-4243-96e6-7d1dc84b0407",
   "metadata": {},
   "outputs": [
    {
     "data": {
      "text/plain": [
       "[\"Hello world!\", \"Hello world!\", \"Hello world!\"]"
      ]
     },
     "execution_count": 7,
     "metadata": {},
     "output_type": "execute_result"
    }
   ],
   "source": [
    "Array.new(3, 'Hello world!')"
   ]
  },
  {
   "cell_type": "markdown",
   "id": "212de3c0-906c-4dfe-a9a7-1102053e87c1",
   "metadata": {
    "jp-MarkdownHeadingCollapsed": true
   },
   "source": [
    "### Accessing elements"
   ]
  },
  {
   "cell_type": "code",
   "execution_count": 8,
   "id": "2349f378-9c02-41a3-8cef-c39527c74ff5",
   "metadata": {},
   "outputs": [
    {
     "data": {
      "text/plain": [
       "[\"This\", \"is\", \"a\", \"small\", \"array\"]"
      ]
     },
     "execution_count": 8,
     "metadata": {},
     "output_type": "execute_result"
    }
   ],
   "source": [
    "str_arr"
   ]
  },
  {
   "cell_type": "code",
   "execution_count": 10,
   "id": "b6249575-9b28-4839-845a-ae2eaf2e22f0",
   "metadata": {},
   "outputs": [
    {
     "data": {
      "text/plain": [
       "\"small\""
      ]
     },
     "execution_count": 10,
     "metadata": {},
     "output_type": "execute_result"
    }
   ],
   "source": [
    "str_arr[-2]"
   ]
  },
  {
   "cell_type": "code",
   "execution_count": 13,
   "id": "bbdd4001-45fa-4e42-9891-d56205dcd849",
   "metadata": {},
   "outputs": [
    {
     "data": {
      "text/plain": [
       "true"
      ]
     },
     "execution_count": 13,
     "metadata": {},
     "output_type": "execute_result"
    }
   ],
   "source": [
    "str_arr[5] ==  nil"
   ]
  },
  {
   "cell_type": "code",
   "execution_count": 14,
   "id": "474372a9-4549-4711-b4f0-0fa54f7faf50",
   "metadata": {},
   "outputs": [
    {
     "data": {
      "text/plain": [
       "\"This\""
      ]
     },
     "execution_count": 14,
     "metadata": {},
     "output_type": "execute_result"
    }
   ],
   "source": [
    "str_arr.first"
   ]
  },
  {
   "cell_type": "code",
   "execution_count": 15,
   "id": "4fc241b6-5d79-40f6-9227-08f1703aae42",
   "metadata": {},
   "outputs": [
    {
     "data": {
      "text/plain": [
       "[\"This\", \"is\"]"
      ]
     },
     "execution_count": 15,
     "metadata": {},
     "output_type": "execute_result"
    }
   ],
   "source": [
    "str_arr.first(2)"
   ]
  },
  {
   "cell_type": "code",
   "execution_count": 16,
   "id": "70adbcb2-76a4-41fb-9acd-7da9eb0c6dce",
   "metadata": {},
   "outputs": [
    {
     "data": {
      "text/plain": [
       "\"array\""
      ]
     },
     "execution_count": 16,
     "metadata": {},
     "output_type": "execute_result"
    }
   ],
   "source": [
    "str_arr.last"
   ]
  },
  {
   "cell_type": "code",
   "execution_count": 17,
   "id": "08d1090b-b44d-4e56-b1f9-8e0009505157",
   "metadata": {},
   "outputs": [
    {
     "data": {
      "text/plain": [
       "[\"small\", \"array\"]"
      ]
     },
     "execution_count": 17,
     "metadata": {},
     "output_type": "execute_result"
    }
   ],
   "source": [
    "str_arr.last(2)"
   ]
  },
  {
   "cell_type": "code",
   "execution_count": 18,
   "id": "c671a6c9-1399-4248-a703-fa475b348098",
   "metadata": {},
   "outputs": [
    {
     "data": {
      "text/plain": [
       "[\"This\", \"is\", \"a\"]"
      ]
     },
     "execution_count": 18,
     "metadata": {},
     "output_type": "execute_result"
    }
   ],
   "source": [
    "str_arr[0..2]"
   ]
  },
  {
   "cell_type": "code",
   "execution_count": 19,
   "id": "80a81c61-2cfa-445d-96d5-83349923c5d1",
   "metadata": {},
   "outputs": [
    {
     "data": {
      "text/plain": [
       "[\"This\", \"is\"]"
      ]
     },
     "execution_count": 19,
     "metadata": {},
     "output_type": "execute_result"
    }
   ],
   "source": [
    "str_arr[0...2]"
   ]
  },
  {
   "cell_type": "code",
   "execution_count": 20,
   "id": "64bc0c89-16fe-4a1c-99c4-73671fb5837d",
   "metadata": {},
   "outputs": [
    {
     "data": {
      "text/plain": [
       "true"
      ]
     },
     "execution_count": 20,
     "metadata": {},
     "output_type": "execute_result"
    }
   ],
   "source": [
    "str_arr[0...2] == [\"This\", \"is\"]"
   ]
  },
  {
   "cell_type": "markdown",
   "id": "f0e7b8c9-e4a5-41cc-a4c2-fed1fb7d133a",
   "metadata": {
    "jp-MarkdownHeadingCollapsed": true
   },
   "source": [
    "### Adding and removing elements"
   ]
  },
  {
   "cell_type": "code",
   "execution_count": 26,
   "id": "55dead51-9a83-4936-8429-95c31a762d0c",
   "metadata": {},
   "outputs": [
    {
     "data": {
      "text/plain": [
       "[0, 1, 2, 3, 4, 5, 6, 7, 8, 9, 10]"
      ]
     },
     "execution_count": 26,
     "metadata": {},
     "output_type": "execute_result"
    }
   ],
   "source": [
    "nums = (0..10).to_a"
   ]
  },
  {
   "cell_type": "code",
   "execution_count": 27,
   "id": "068bd310-c597-4618-84f4-6ae16ed2a741",
   "metadata": {},
   "outputs": [
    {
     "data": {
      "text/plain": [
       "[0, 1, 2, 3, 4, 5, 6, 7, 8, 9, 10, 11, 12]"
      ]
     },
     "execution_count": 27,
     "metadata": {},
     "output_type": "execute_result"
    }
   ],
   "source": [
    "nums.push(11, 12)"
   ]
  },
  {
   "cell_type": "code",
   "execution_count": 28,
   "id": "1330ac70-f64a-4a8f-b974-d8a5aec9da84",
   "metadata": {},
   "outputs": [
    {
     "data": {
      "text/plain": [
       "[0, 1, 2, 3, 4, 5, 6, 7, 8, 9, 10, 11, 12]"
      ]
     },
     "execution_count": 28,
     "metadata": {},
     "output_type": "execute_result"
    }
   ],
   "source": [
    "nums"
   ]
  },
  {
   "cell_type": "code",
   "execution_count": 29,
   "id": "f02904cd-ed63-49b1-9238-0a12cb58bbd0",
   "metadata": {},
   "outputs": [
    {
     "data": {
      "text/plain": [
       "[11, 12]"
      ]
     },
     "execution_count": 29,
     "metadata": {},
     "output_type": "execute_result"
    }
   ],
   "source": [
    "nums.pop(2)"
   ]
  },
  {
   "cell_type": "code",
   "execution_count": 30,
   "id": "5bac0158-1736-4d41-a7eb-5dd87d9f6ae6",
   "metadata": {},
   "outputs": [
    {
     "data": {
      "text/plain": [
       "[0, 1, 2, 3, 4, 5, 6, 7, 8, 9, 10]"
      ]
     },
     "execution_count": 30,
     "metadata": {},
     "output_type": "execute_result"
    }
   ],
   "source": [
    "nums"
   ]
  },
  {
   "cell_type": "code",
   "execution_count": 32,
   "id": "bc9dbff1-67a2-46f4-9fb4-6ce3127f6396",
   "metadata": {},
   "outputs": [
    {
     "data": {
      "text/plain": [
       "[-1, 0, 0, 1, 2, 3, 4, 5, 6, 7, 8, 9, 10]"
      ]
     },
     "execution_count": 32,
     "metadata": {},
     "output_type": "execute_result"
    }
   ],
   "source": [
    "nums.unshift(-1, 0)"
   ]
  },
  {
   "cell_type": "code",
   "execution_count": 33,
   "id": "5849974f-f891-4e16-871f-90cc199665ce",
   "metadata": {},
   "outputs": [
    {
     "data": {
      "text/plain": [
       "[-1, 0, 0, 1, 2, 3, 4, 5, 6, 7, 8, 9, 10]"
      ]
     },
     "execution_count": 33,
     "metadata": {},
     "output_type": "execute_result"
    }
   ],
   "source": [
    "nums"
   ]
  },
  {
   "cell_type": "code",
   "execution_count": 34,
   "id": "c3052456-ebed-4744-a190-506b6c6cd11b",
   "metadata": {},
   "outputs": [
    {
     "data": {
      "text/plain": [
       "[-1, 0]"
      ]
     },
     "execution_count": 34,
     "metadata": {},
     "output_type": "execute_result"
    }
   ],
   "source": [
    "nums.shift(2)"
   ]
  },
  {
   "cell_type": "code",
   "execution_count": 35,
   "id": "c91b282d-5e86-45c5-88bf-d386782b4dd7",
   "metadata": {},
   "outputs": [
    {
     "data": {
      "text/plain": [
       "[0, 1, 2, 3, 4, 5, 6, 7, 8, 9, 10]"
      ]
     },
     "execution_count": 35,
     "metadata": {},
     "output_type": "execute_result"
    }
   ],
   "source": [
    "nums"
   ]
  },
  {
   "cell_type": "markdown",
   "id": "a4a4085f-4dff-46bf-9f15-fc119d1a9716",
   "metadata": {},
   "source": [
    "### Adding and Subtracting Array"
   ]
  },
  {
   "cell_type": "code",
   "execution_count": 37,
   "id": "875ed7c2-9fb0-4fb0-bd4b-f27ad514a85f",
   "metadata": {},
   "outputs": [
    {
     "data": {
      "text/plain": [
       "[0, 2, 4, 6, 8]"
      ]
     },
     "execution_count": 37,
     "metadata": {},
     "output_type": "execute_result"
    }
   ],
   "source": [
    "even_nums = (0...10).step(2).to_a"
   ]
  },
  {
   "cell_type": "code",
   "execution_count": 38,
   "id": "39d93541-0dda-4451-b6f4-5559f833fc11",
   "metadata": {},
   "outputs": [
    {
     "data": {
      "text/plain": [
       "[1, 3, 5, 7, 9]"
      ]
     },
     "execution_count": 38,
     "metadata": {},
     "output_type": "execute_result"
    }
   ],
   "source": [
    "odd_nums = (1..9).step(2).to_a"
   ]
  },
  {
   "cell_type": "code",
   "execution_count": 39,
   "id": "a81b2d21-f73e-411f-8fbc-30532b3cda5c",
   "metadata": {},
   "outputs": [
    {
     "data": {
      "text/plain": [
       "[1, 2, 3, 4, 5, 6, 7, 8, 9]"
      ]
     },
     "execution_count": 39,
     "metadata": {},
     "output_type": "execute_result"
    }
   ],
   "source": [
    "nums = (1..9).to_a"
   ]
  },
  {
   "cell_type": "code",
   "execution_count": 40,
   "id": "ab5f464f-1751-4f3d-badb-3941e06b3fcb",
   "metadata": {},
   "outputs": [
    {
     "data": {
      "text/plain": [
       "[0, 2, 4, 6, 8, 1, 3, 5, 7, 9]"
      ]
     },
     "execution_count": 40,
     "metadata": {},
     "output_type": "execute_result"
    }
   ],
   "source": [
    "even_nums + odd_nums"
   ]
  },
  {
   "cell_type": "code",
   "execution_count": 41,
   "id": "0b165279-313b-4903-9bb4-04ab8df86d86",
   "metadata": {},
   "outputs": [
    {
     "data": {
      "text/plain": [
       "[1, 3, 5, 7, 9]"
      ]
     },
     "execution_count": 41,
     "metadata": {},
     "output_type": "execute_result"
    }
   ],
   "source": [
    "nums - even_nums"
   ]
  },
  {
   "cell_type": "code",
   "execution_count": 42,
   "id": "d18ce9e4-a5b2-4b24-b7fd-fb3f22859288",
   "metadata": {},
   "outputs": [
    {
     "data": {
      "text/plain": [
       "[0, 2, 4, 6, 8, 1, 3, 5, 7, 9]"
      ]
     },
     "execution_count": 42,
     "metadata": {},
     "output_type": "execute_result"
    }
   ],
   "source": [
    "even_nums.concat(odd_nums)"
   ]
  },
  {
   "cell_type": "markdown",
   "id": "5e68779a-1edc-47cf-81bb-a988f8fd9942",
   "metadata": {},
   "source": [
    "### Basic methods"
   ]
  },
  {
   "cell_type": "code",
   "execution_count": 43,
   "id": "42f0a5be-cf61-4cc4-a112-039acf76cbb1",
   "metadata": {},
   "outputs": [
    {
     "data": {
      "text/plain": [
       "[:last, :to_h, :include?, :&, :*, :+, :-, :shelljoin, :at, :fetch, :union, :difference, :intersection, :intersect?, :push, :append, :pop, :shift, :unshift, :each_index, :join, :rotate, :rotate!, :sort!, :sort_by!, :collect!, :map!, :select!, :filter!, :keep_if, :sort, :delete_at, :delete_if, :values_at, :count, :transpose, :find_index, :rassoc, :select, :filter, :flatten, :flatten!, :collect, :map, :reject, :fill, :assoc, :repeated_permutation, :uniq!, :compact!, :bsearch, :repeated_combination, :permutation, :combination, :reject!, :all?, :minmax, :one?, :bsearch_index, :any?, :product, :reverse_each, :shuffle, :deconstruct, :|, :first, :zip, :take, :take_while, :drop, :drop_while, :cycle, :<=>, :<<, :sum, :uniq, :compact, :==, :pretty_print, :none?, :[], :[]=, :sample, :pack, :empty?, :eql?, :shuffle!, :insert, :index, :rindex, :replace, :clear, :max, :min, :hash, :inspect, :length, :size, :each, :reverse, :to_ary, :concat, :prepend, :reverse!, :to_a, :to_s, :pretty_print_cycle, :delete, :slice, :slice!, :dig, :to_json, :chunk, :slice_before, :slice_after, :slice_when, :chunk_while, :to_set, :chain, :lazy, :find, :entries, :sort_by, :grep, :grep_v, :detect, :find_all, :filter_map, :flat_map, :collect_concat, :inject, :reduce, :partition, :group_by, :tally, :min_by, :max_by, :minmax_by, :member?, :each_with_index, :each_entry, :each_slice, :each_cons, :each_with_object, :pretty_print_instance_variables, :pretty_print_inspect, :singleton_class, :dup, :itself, :methods, :singleton_methods, :protected_methods, :private_methods, :public_methods, :instance_variables, :instance_variable_get, :instance_variable_set, :instance_variable_defined?, :remove_instance_variable, :instance_of?, :kind_of?, :is_a?, :display, :public_send, :class, :tap, :frozen?, :extend, :yield_self, :then, :clone, :===, :!~, :method, :public_method, :singleton_method, :nil?, :respond_to?, :define_singleton_method, :freeze, :object_id, :send, :pretty_inspect, :to_enum, :enum_for, :equal?, :!, :__send__, :!=, :__id__, :instance_eval, :instance_exec]"
      ]
     },
     "execution_count": 43,
     "metadata": {},
     "output_type": "execute_result"
    }
   ],
   "source": [
    "nums.methods"
   ]
  },
  {
   "cell_type": "code",
   "execution_count": 44,
   "id": "9a7bfda0-5bce-44d8-bcfb-554b424a0e12",
   "metadata": {},
   "outputs": [
    {
     "name": "stdout",
     "output_type": "stream",
     "text": [
      "last\n",
      "to_h\n",
      "include?\n",
      "&\n",
      "*\n",
      "+\n",
      "-\n",
      "shelljoin\n",
      "at\n",
      "fetch\n",
      "union\n",
      "difference\n",
      "intersection\n",
      "intersect?\n",
      "push\n",
      "append\n",
      "pop\n",
      "shift\n",
      "unshift\n",
      "each_index\n",
      "join\n",
      "rotate\n",
      "rotate!\n",
      "sort!\n",
      "sort_by!\n",
      "collect!\n",
      "map!\n",
      "select!\n",
      "filter!\n",
      "keep_if\n",
      "sort\n",
      "delete_at\n",
      "delete_if\n",
      "values_at\n",
      "count\n",
      "transpose\n",
      "find_index\n",
      "rassoc\n",
      "select\n",
      "filter\n",
      "flatten\n",
      "flatten!\n",
      "collect\n",
      "map\n",
      "reject\n",
      "fill\n",
      "assoc\n",
      "repeated_permutation\n",
      "uniq!\n",
      "compact!\n",
      "bsearch\n",
      "repeated_combination\n",
      "permutation\n",
      "combination\n",
      "reject!\n",
      "all?\n",
      "minmax\n",
      "one?\n",
      "bsearch_index\n",
      "any?\n",
      "product\n",
      "reverse_each\n",
      "shuffle\n",
      "deconstruct\n",
      "|\n",
      "first\n",
      "zip\n",
      "take\n",
      "take_while\n",
      "drop\n",
      "drop_while\n",
      "cycle\n",
      "<=>\n",
      "<<\n",
      "sum\n",
      "uniq\n",
      "compact\n",
      "==\n",
      "pretty_print\n",
      "none?\n",
      "[]\n",
      "[]=\n",
      "sample\n",
      "pack\n",
      "empty?\n",
      "eql?\n",
      "shuffle!\n",
      "insert\n",
      "index\n",
      "rindex\n",
      "replace\n",
      "clear\n",
      "max\n",
      "min\n",
      "hash\n",
      "inspect\n",
      "length\n",
      "size\n",
      "each\n",
      "reverse\n",
      "to_ary\n",
      "concat\n",
      "prepend\n",
      "reverse!\n",
      "to_a\n",
      "to_s\n",
      "pretty_print_cycle\n",
      "delete\n",
      "slice\n",
      "slice!\n",
      "dig\n",
      "to_json\n",
      "chunk\n",
      "slice_before\n",
      "slice_after\n",
      "slice_when\n",
      "chunk_while\n",
      "to_set\n",
      "chain\n",
      "lazy\n",
      "find\n",
      "entries\n",
      "sort_by\n",
      "grep\n",
      "grep_v\n",
      "detect\n",
      "find_all\n",
      "filter_map\n",
      "flat_map\n",
      "collect_concat\n",
      "inject\n",
      "reduce\n",
      "partition\n",
      "group_by\n",
      "tally\n",
      "min_by\n",
      "max_by\n",
      "minmax_by\n",
      "member?\n",
      "each_with_index\n",
      "each_entry\n",
      "each_slice\n",
      "each_cons\n",
      "each_with_object\n",
      "pretty_print_instance_variables\n",
      "pretty_print_inspect\n",
      "singleton_class\n",
      "dup\n",
      "itself\n",
      "methods\n",
      "singleton_methods\n",
      "protected_methods\n",
      "private_methods\n",
      "public_methods\n",
      "instance_variables\n",
      "instance_variable_get\n",
      "instance_variable_set\n",
      "instance_variable_defined?\n",
      "remove_instance_variable\n",
      "instance_of?\n",
      "kind_of?\n",
      "is_a?\n",
      "display\n",
      "public_send\n",
      "class\n",
      "tap\n",
      "frozen?\n",
      "extend\n",
      "yield_self\n",
      "then\n",
      "clone\n",
      "===\n",
      "!~\n",
      "method\n",
      "public_method\n",
      "singleton_method\n",
      "nil?\n",
      "respond_to?\n",
      "define_singleton_method\n",
      "freeze\n",
      "object_id\n",
      "send\n",
      "pretty_inspect\n",
      "to_enum\n",
      "enum_for\n",
      "equal?\n",
      "!\n",
      "__send__\n",
      "!=\n",
      "__id__\n",
      "instance_eval\n",
      "instance_exec\n"
     ]
    },
    {
     "data": {
      "text/plain": [
       "[:last, :to_h, :include?, :&, :*, :+, :-, :shelljoin, :at, :fetch, :union, :difference, :intersection, :intersect?, :push, :append, :pop, :shift, :unshift, :each_index, :join, :rotate, :rotate!, :sort!, :sort_by!, :collect!, :map!, :select!, :filter!, :keep_if, :sort, :delete_at, :delete_if, :values_at, :count, :transpose, :find_index, :rassoc, :select, :filter, :flatten, :flatten!, :collect, :map, :reject, :fill, :assoc, :repeated_permutation, :uniq!, :compact!, :bsearch, :repeated_combination, :permutation, :combination, :reject!, :all?, :minmax, :one?, :bsearch_index, :any?, :product, :reverse_each, :shuffle, :deconstruct, :|, :first, :zip, :take, :take_while, :drop, :drop_while, :cycle, :<=>, :<<, :sum, :uniq, :compact, :==, :pretty_print, :none?, :[], :[]=, :sample, :pack, :empty?, :eql?, :shuffle!, :insert, :index, :rindex, :replace, :clear, :max, :min, :hash, :inspect, :length, :size, :each, :reverse, :to_ary, :concat, :prepend, :reverse!, :to_a, :to_s, :pretty_print_cycle, :delete, :slice, :slice!, :dig, :to_json, :chunk, :slice_before, :slice_after, :slice_when, :chunk_while, :to_set, :chain, :lazy, :find, :entries, :sort_by, :grep, :grep_v, :detect, :find_all, :filter_map, :flat_map, :collect_concat, :inject, :reduce, :partition, :group_by, :tally, :min_by, :max_by, :minmax_by, :member?, :each_with_index, :each_entry, :each_slice, :each_cons, :each_with_object, :pretty_print_instance_variables, :pretty_print_inspect, :singleton_class, :dup, :itself, :methods, :singleton_methods, :protected_methods, :private_methods, :public_methods, :instance_variables, :instance_variable_get, :instance_variable_set, :instance_variable_defined?, :remove_instance_variable, :instance_of?, :kind_of?, :is_a?, :display, :public_send, :class, :tap, :frozen?, :extend, :yield_self, :then, :clone, :===, :!~, :method, :public_method, :singleton_method, :nil?, :respond_to?, :define_singleton_method, :freeze, :object_id, :send, :pretty_inspect, :to_enum, :enum_for, :equal?, :!, :__send__, :!=, :__id__, :instance_eval, :instance_exec]"
      ]
     },
     "execution_count": 44,
     "metadata": {},
     "output_type": "execute_result"
    }
   ],
   "source": [
    "for method_ in nums.methods do\n",
    "    puts method_\n",
    "end"
   ]
  },
  {
   "cell_type": "code",
   "execution_count": null,
   "id": "5fbc3645-87f2-45ce-b889-c67abf8daa75",
   "metadata": {},
   "outputs": [],
   "source": []
  }
 ],
 "metadata": {
  "kernelspec": {
   "display_name": "Ruby 3 (iruby kernel)",
   "language": "ruby",
   "name": "ruby3"
  },
  "language_info": {
   "file_extension": ".rb",
   "mimetype": "application/x-ruby",
   "name": "ruby",
   "version": "3.3.8"
  }
 },
 "nbformat": 4,
 "nbformat_minor": 5
}
