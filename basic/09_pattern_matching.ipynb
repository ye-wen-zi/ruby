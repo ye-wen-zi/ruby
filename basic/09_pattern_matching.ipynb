{
 "cells": [
  {
   "cell_type": "markdown",
   "id": "f8105941-2a0d-408a-8e19-a8aa87076951",
   "metadata": {},
   "source": [
    "# Ruby"
   ]
  },
  {
   "cell_type": "markdown",
   "id": "7ed8bb7d-aa2c-4699-9a31-804530ad1329",
   "metadata": {},
   "source": [
    "## Pattern matching"
   ]
  },
  {
   "cell_type": "markdown",
   "id": "d9ff4fda-345a-4486-bb70-08ccb8bab9b0",
   "metadata": {},
   "source": [
    "### Basic"
   ]
  },
  {
   "cell_type": "code",
   "execution_count": 3,
   "id": "07c9d76f-e9b2-4244-9a49-76826b113a03",
   "metadata": {},
   "outputs": [
    {
     "data": {
      "text/plain": [
       "\"Grab your umbrella!\""
      ]
     },
     "execution_count": 3,
     "metadata": {},
     "output_type": "execute_result"
    }
   ],
   "source": [
    "weather = 'RAIN'\n",
    "\n",
    "activity = case weather \n",
    "    when 'SUNNY' then 'Enjoy the Sunshine!'\n",
    "    when 'RAIN' then 'Grab your umbrella!'\n",
    "else 'I don\\'t no.'\n",
    "end"
   ]
  },
  {
   "cell_type": "code",
   "execution_count": 5,
   "id": "bcba06e3-08fd-4834-94cf-032424d0d5d6",
   "metadata": {},
   "outputs": [
    {
     "data": {
      "text/plain": [
       "\"Grab your umbrella!\""
      ]
     },
     "execution_count": 5,
     "metadata": {},
     "output_type": "execute_result"
    }
   ],
   "source": [
    "weather = 'RAIN'\n",
    "\n",
    "activity = case weather \n",
    "    in 'SUNNY' then 'Enjoy the Sunshine!'\n",
    "    in 'RAIN' then 'Grab your umbrella!'\n",
    "else 'I don\\'t no.'\n",
    "end"
   ]
  },
  {
   "cell_type": "code",
   "execution_count": 6,
   "id": "c416b832-52e6-49cd-ae67-1d492c094b94",
   "metadata": {},
   "outputs": [
    {
     "name": "stdout",
     "output_type": "stream",
     "text": [
      "Logged in with username hornby\n"
     ]
    }
   ],
   "source": [
    "login = { username: 'hornby', password: 'iliketrains' }\n",
    "\n",
    "login => { username: username }\n",
    "\n",
    "puts \"Logged in with username #{username}\"\n",
    "\n",
    "#=> Logged in with username hornby\n"
   ]
  }
 ],
 "metadata": {
  "kernelspec": {
   "display_name": "Ruby 3 (iruby kernel)",
   "language": "ruby",
   "name": "ruby3"
  },
  "language_info": {
   "file_extension": ".rb",
   "mimetype": "application/x-ruby",
   "name": "ruby",
   "version": "3.3.8"
  }
 },
 "nbformat": 4,
 "nbformat_minor": 5
}
