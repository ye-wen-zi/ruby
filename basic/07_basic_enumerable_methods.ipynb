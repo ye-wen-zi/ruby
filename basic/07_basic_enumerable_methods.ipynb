{
 "cells": [
  {
   "cell_type": "markdown",
   "id": "a54741b1-01a3-4f79-ae4f-fd2d49a9269f",
   "metadata": {},
   "source": [
    "# Ruby"
   ]
  },
  {
   "cell_type": "markdown",
   "id": "90d569bd-67e2-4789-9af4-c3000f21ce0e",
   "metadata": {},
   "source": [
    "## Basic enumerable methods"
   ]
  },
  {
   "cell_type": "code",
   "execution_count": 1,
   "id": "f3113ded-604a-4a6f-9d2e-1fbda52cb197",
   "metadata": {},
   "outputs": [
    {
     "data": {
      "text/plain": [
       "[\"Sharon\", \"Leo\", \"Leila\", \"Brian\", \"Arun\"]"
      ]
     },
     "execution_count": 1,
     "metadata": {},
     "output_type": "execute_result"
    }
   ],
   "source": [
    "friends = ['Sharon', 'Leo', 'Leila', 'Brian', 'Arun']"
   ]
  },
  {
   "cell_type": "markdown",
   "id": "8bdfd1f3-5f10-4383-b80a-7d0242c77399",
   "metadata": {},
   "source": [
    "### Select"
   ]
  },
  {
   "cell_type": "code",
   "execution_count": 2,
   "id": "88b4c836-bd5a-4ef2-899d-f2bde104125a",
   "metadata": {},
   "outputs": [
    {
     "data": {
      "text/plain": [
       "[\"Sharon\", \"Leo\", \"Leila\", \"Arun\"]"
      ]
     },
     "execution_count": 2,
     "metadata": {},
     "output_type": "execute_result"
    }
   ],
   "source": [
    "friends.select { | friend | friend != 'Brian'}"
   ]
  },
  {
   "cell_type": "markdown",
   "id": "7e534223-d154-47f4-b580-5c2d119d213d",
   "metadata": {},
   "source": [
    "### Reject"
   ]
  },
  {
   "cell_type": "code",
   "execution_count": 3,
   "id": "5c2cc11f-3626-4760-8663-e4ee4d7b9677",
   "metadata": {},
   "outputs": [
    {
     "data": {
      "text/plain": [
       "[\"Sharon\", \"Leo\", \"Leila\", \"Arun\"]"
      ]
     },
     "execution_count": 3,
     "metadata": {},
     "output_type": "execute_result"
    }
   ],
   "source": [
    "friends.reject { | friend | friend == 'Brian'}"
   ]
  },
  {
   "cell_type": "markdown",
   "id": "f50acf6e-e194-425b-859a-5ab3d7d90c40",
   "metadata": {},
   "source": [
    "### Each"
   ]
  },
  {
   "cell_type": "code",
   "execution_count": 6,
   "id": "d746f958-58fb-440e-b2a1-8bb38014d9a3",
   "metadata": {},
   "outputs": [
    {
     "name": "stdout",
     "output_type": "stream",
     "text": [
      "Hello Sharon!\n",
      "Hello Leo!\n",
      "Hello Leila!\n",
      "Hello Brian!\n",
      "Hello Arun!\n"
     ]
    },
    {
     "data": {
      "text/plain": [
       "[\"Sharon\", \"Leo\", \"Leila\", \"Brian\", \"Arun\"]"
      ]
     },
     "execution_count": 6,
     "metadata": {},
     "output_type": "execute_result"
    }
   ],
   "source": [
    "friends.each { |friend| puts \"Hello #{friend}!\" }"
   ]
  },
  {
   "cell_type": "code",
   "execution_count": 7,
   "id": "9611f0a1-499c-40a6-b018-ae7cf94a4b69",
   "metadata": {},
   "outputs": [
    {
     "name": "stdout",
     "output_type": "stream",
     "text": [
      "Hello Sharon!\n",
      "-----------------\n",
      "Hello Leo!\n",
      "-----------------\n",
      "Hello Leila!\n",
      "-----------------\n",
      "Hello Brian!\n",
      "-----------------\n",
      "Hello Arun!\n",
      "-----------------\n"
     ]
    },
    {
     "data": {
      "text/plain": [
       "[\"Sharon\", \"Leo\", \"Leila\", \"Brian\", \"Arun\"]"
      ]
     },
     "execution_count": 7,
     "metadata": {},
     "output_type": "execute_result"
    }
   ],
   "source": [
    "friends.each do |friend|\n",
    "    puts \"Hello #{friend}!\"\n",
    "    puts \"-----------------\"\n",
    "end"
   ]
  },
  {
   "cell_type": "code",
   "execution_count": 10,
   "id": "18288dc1-3a98-400a-8f1e-125d33292436",
   "metadata": {},
   "outputs": [
    {
     "data": {
      "text/plain": [
       "{:one=>1, :two=>2, :three=>3}"
      ]
     },
     "execution_count": 10,
     "metadata": {},
     "output_type": "execute_result"
    }
   ],
   "source": [
    "num_hash = {\n",
    "    one: 1,\n",
    "    two: 2,\n",
    "    three: 3\n",
    "}"
   ]
  },
  {
   "cell_type": "code",
   "execution_count": 11,
   "id": "55264a45-df05-41ce-b968-7b4f71da5886",
   "metadata": {},
   "outputs": [
    {
     "name": "stdout",
     "output_type": "stream",
     "text": [
      "[:one, 1]\n",
      "[:two, 2]\n",
      "[:three, 3]\n"
     ]
    },
    {
     "data": {
      "text/plain": [
       "{:one=>1, :two=>2, :three=>3}"
      ]
     },
     "execution_count": 11,
     "metadata": {},
     "output_type": "execute_result"
    }
   ],
   "source": [
    "num_hash.each { |pair| puts \"#{pair}\" }"
   ]
  },
  {
   "cell_type": "code",
   "execution_count": 12,
   "id": "54cd3045-8bb0-402f-93ec-cf0d7c19b8a0",
   "metadata": {},
   "outputs": [
    {
     "name": "stdout",
     "output_type": "stream",
     "text": [
      "one: 1\n",
      "two: 2\n",
      "three: 3\n"
     ]
    },
    {
     "data": {
      "text/plain": [
       "{:one=>1, :two=>2, :three=>3}"
      ]
     },
     "execution_count": 12,
     "metadata": {},
     "output_type": "execute_result"
    }
   ],
   "source": [
    "num_hash.each { |key, value| puts \"#{key}: #{value}\" }"
   ]
  },
  {
   "cell_type": "markdown",
   "id": "f8891054-d65a-4aa8-8f8f-eeb24f8c6fd1",
   "metadata": {},
   "source": [
    "### Each with index"
   ]
  },
  {
   "cell_type": "code",
   "execution_count": 13,
   "id": "96f3ce82-92a6-48f5-8752-1f8533678f9a",
   "metadata": {},
   "outputs": [
    {
     "data": {
      "text/plain": [
       "[\"Sharon\", \"Leo\", \"Leila\", \"Brian\", \"Arun\"]"
      ]
     },
     "execution_count": 13,
     "metadata": {},
     "output_type": "execute_result"
    }
   ],
   "source": [
    "friends"
   ]
  },
  {
   "cell_type": "code",
   "execution_count": 15,
   "id": "f90265da-c9af-41b7-8daf-6e0a5257fa4f",
   "metadata": {},
   "outputs": [
    {
     "name": "stdout",
     "output_type": "stream",
     "text": [
      "Sharon\n",
      "Leila\n",
      "Arun\n"
     ]
    },
    {
     "data": {
      "text/plain": [
       "[\"Sharon\", \"Leo\", \"Leila\", \"Brian\", \"Arun\"]"
      ]
     },
     "execution_count": 15,
     "metadata": {},
     "output_type": "execute_result"
    }
   ],
   "source": [
    "friends.each_with_index { |friend, index| puts friend if index.even?}"
   ]
  },
  {
   "cell_type": "markdown",
   "id": "5e2f3c11-f845-4316-a029-1327d71fa5cb",
   "metadata": {},
   "source": [
    "### Map"
   ]
  },
  {
   "cell_type": "code",
   "execution_count": 16,
   "id": "538bcca7-a635-4801-bb65-7a1ffc15b393",
   "metadata": {},
   "outputs": [
    {
     "data": {
      "text/plain": [
       "[\"SHARON\", \"LEO\", \"LEILA\", \"BRIAN\", \"ARUN\"]"
      ]
     },
     "execution_count": 16,
     "metadata": {},
     "output_type": "execute_result"
    }
   ],
   "source": [
    "friends.map { |friend| friend.upcase }"
   ]
  },
  {
   "cell_type": "markdown",
   "id": "41653897-c34b-448e-a977-223a1e3b141c",
   "metadata": {},
   "source": [
    "### Reduce"
   ]
  },
  {
   "cell_type": "code",
   "execution_count": 18,
   "id": "e980b88d-7ac5-4ebb-a3bb-4c747ab29de3",
   "metadata": {},
   "outputs": [
    {
     "data": {
      "text/plain": [
       "[1, 2, 3, 4, 5, 6, 7, 8, 9]"
      ]
     },
     "execution_count": 18,
     "metadata": {},
     "output_type": "execute_result"
    }
   ],
   "source": [
    "nums = (1...10).to_a"
   ]
  },
  {
   "cell_type": "code",
   "execution_count": 19,
   "id": "e288c4d3-cce0-452a-813a-b6486fdebdfa",
   "metadata": {},
   "outputs": [
    {
     "data": {
      "text/plain": [
       "45"
      ]
     },
     "execution_count": 19,
     "metadata": {},
     "output_type": "execute_result"
    }
   ],
   "source": [
    "nums.reduce { |sum, num| sum + num }"
   ]
  },
  {
   "cell_type": "code",
   "execution_count": 21,
   "id": "d2a59bdc-6c15-4ee0-a9d4-25b28e2d4742",
   "metadata": {},
   "outputs": [
    {
     "data": {
      "text/plain": [
       "55"
      ]
     },
     "execution_count": 21,
     "metadata": {},
     "output_type": "execute_result"
    }
   ],
   "source": [
    "nums.reduce(10) { |sum, num| sum + num }"
   ]
  },
  {
   "cell_type": "code",
   "execution_count": 23,
   "id": "d96d7e6f-8dc5-4232-8d76-2b99b2be4b1b",
   "metadata": {},
   "outputs": [
    {
     "data": {
      "text/plain": [
       "[\"Sharon\", \"Leo\", \"Leila\", \"Brian\", \"Arun\"]"
      ]
     },
     "execution_count": 23,
     "metadata": {},
     "output_type": "execute_result"
    }
   ],
   "source": [
    "friends"
   ]
  },
  {
   "cell_type": "code",
   "execution_count": 31,
   "id": "6841aa9b-9a14-4302-afd3-e9db4a7656c6",
   "metadata": {},
   "outputs": [
    {
     "data": {
      "text/plain": [
       "{\"SHARON\"=>\"Sharon\", \"LEO\"=>\"Leo\", \"LEILA\"=>\"Leila\", \"BRIAN\"=>\"Brian\", \"ARUN\"=>\"Arun\"}"
      ]
     },
     "execution_count": 31,
     "metadata": {},
     "output_type": "execute_result"
    }
   ],
   "source": [
    "friends.reduce(Hash.new) do |result, friend|\n",
    "    result[friend.upcase] = friend\n",
    "    result\n",
    "end"
   ]
  },
  {
   "cell_type": "markdown",
   "id": "035351c8-7786-4e20-b732-4a6e1b484f05",
   "metadata": {},
   "source": [
    "### Bang methods"
   ]
  },
  {
   "cell_type": "code",
   "execution_count": 32,
   "id": "0053b1b9-7d56-4ba7-bad1-2c071d5ffd73",
   "metadata": {},
   "outputs": [
    {
     "data": {
      "text/plain": [
       "[1, 2, 3, 4, 5, 6, 7, 8, 9]"
      ]
     },
     "execution_count": 32,
     "metadata": {},
     "output_type": "execute_result"
    }
   ],
   "source": [
    "nums = (1...10).to_a"
   ]
  },
  {
   "cell_type": "code",
   "execution_count": 33,
   "id": "639b80a6-d5e8-443e-b461-4bf812a06d1c",
   "metadata": {},
   "outputs": [
    {
     "data": {
      "text/plain": [
       "[2, 4, 6, 8, 10, 12, 14, 16, 18]"
      ]
     },
     "execution_count": 33,
     "metadata": {},
     "output_type": "execute_result"
    }
   ],
   "source": [
    "nums.map { |num| num * 2 }"
   ]
  },
  {
   "cell_type": "code",
   "execution_count": 34,
   "id": "7f501651-f013-4a2e-ac17-aa4bc96f3c80",
   "metadata": {},
   "outputs": [
    {
     "data": {
      "text/plain": [
       "[1, 2, 3, 4, 5, 6, 7, 8, 9]"
      ]
     },
     "execution_count": 34,
     "metadata": {},
     "output_type": "execute_result"
    }
   ],
   "source": [
    "nums"
   ]
  },
  {
   "cell_type": "code",
   "execution_count": 35,
   "id": "33d5d399-0ce8-49af-a2e4-62c6517b3c56",
   "metadata": {},
   "outputs": [
    {
     "data": {
      "text/plain": [
       "[2, 4, 6, 8, 10, 12, 14, 16, 18]"
      ]
     },
     "execution_count": 35,
     "metadata": {},
     "output_type": "execute_result"
    }
   ],
   "source": [
    "nums.map! { |num| num * 2 }"
   ]
  },
  {
   "cell_type": "code",
   "execution_count": 36,
   "id": "92ead162-d115-494d-894d-858137e961fc",
   "metadata": {},
   "outputs": [
    {
     "data": {
      "text/plain": [
       "[2, 4, 6, 8, 10, 12, 14, 16, 18]"
      ]
     },
     "execution_count": 36,
     "metadata": {},
     "output_type": "execute_result"
    }
   ],
   "source": [
    "nums"
   ]
  }
 ],
 "metadata": {
  "kernelspec": {
   "display_name": "Ruby 3 (iruby kernel)",
   "language": "ruby",
   "name": "ruby3"
  },
  "language_info": {
   "file_extension": ".rb",
   "mimetype": "application/x-ruby",
   "name": "ruby",
   "version": "3.3.8"
  }
 },
 "nbformat": 4,
 "nbformat_minor": 5
}
