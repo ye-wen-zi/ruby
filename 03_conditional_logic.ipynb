{
 "cells": [
  {
   "cell_type": "markdown",
   "id": "1f171e92-80ae-4bbd-92b0-a070f8e987dd",
   "metadata": {},
   "source": [
    "# Ruby"
   ]
  },
  {
   "cell_type": "markdown",
   "id": "40a659ac-a08f-422a-b86c-a6a8d8ef2206",
   "metadata": {},
   "source": [
    "## Conditional Logic"
   ]
  },
  {
   "cell_type": "markdown",
   "id": "aa474621-b3f8-4b21-a843-e7086c91a9f0",
   "metadata": {
    "jp-MarkdownHeadingCollapsed": true
   },
   "source": [
    "### Truthy and falsy in Ruby"
   ]
  },
  {
   "cell_type": "markdown",
   "id": "dc417241-dcd2-4b1b-bc06-eb23d99e600d",
   "metadata": {},
   "source": [
    "You already know that conditional statements check expressions for a true or false value, so it follows that you need to understand what Ruby considers to be true or false. In typical Ruby fashion, it’s very simple. `The only false values in Ruby are the values nil and false themselves. That’s it! Everything else is considered true`. Even the string \"false\" is true in conditional expressions! If you have experience with other programming languages, you might be familiar with the number 0 or an empty string (“”) being equivalent to false. This isn’t the case with Ruby, so be careful when writing those expressions. Otherwise, you might end up with more bugs on your screen than if you were using light mode at midnight."
   ]
  },
  {
   "cell_type": "code",
   "execution_count": 5,
   "id": "c5a49ebc-b14e-4636-9565-0f5ef030259c",
   "metadata": {},
   "outputs": [
    {
     "data": {
      "text/plain": [
       "[]"
      ]
     },
     "execution_count": 5,
     "metadata": {},
     "output_type": "execute_result"
    }
   ],
   "source": [
    "empty_string = ''\n",
    "false_value = false\n",
    "nil_ = nil\n",
    "true_value = true\n",
    "zero = 0\n",
    "empty_arr = []"
   ]
  },
  {
   "cell_type": "code",
   "execution_count": 25,
   "id": "409c1ce4-76f8-4b76-8a3e-4b8098f0d066",
   "metadata": {},
   "outputs": [
    {
     "data": {
      "text/plain": [
       ":check_truthy_value"
      ]
     },
     "execution_count": 25,
     "metadata": {},
     "output_type": "execute_result"
    }
   ],
   "source": [
    "def check_truthy_value(value)\n",
    "    if value\n",
    "        puts \"'#{value}' is a truthy value!\"\n",
    "    else\n",
    "        puts \"'#{value}' is a falsy value!\"\n",
    "    end\n",
    "end"
   ]
  },
  {
   "cell_type": "code",
   "execution_count": 26,
   "id": "58281c5f-e19d-4492-a8a2-8e3715abf43d",
   "metadata": {},
   "outputs": [
    {
     "name": "stdout",
     "output_type": "stream",
     "text": [
      "'' is a truthy value!\n"
     ]
    }
   ],
   "source": [
    "check_truthy_value('')"
   ]
  },
  {
   "cell_type": "code",
   "execution_count": 27,
   "id": "fb9d95f1-352a-4069-8e03-79204ca0fe8f",
   "metadata": {},
   "outputs": [
    {
     "name": "stdout",
     "output_type": "stream",
     "text": [
      "'false' is a falsy value!\n"
     ]
    }
   ],
   "source": [
    "check_truthy_value(false)"
   ]
  },
  {
   "cell_type": "code",
   "execution_count": 28,
   "id": "3e0c724b-188e-4465-bd8c-f694b60069b1",
   "metadata": {},
   "outputs": [
    {
     "name": "stdout",
     "output_type": "stream",
     "text": [
      "'true' is a truthy value!\n"
     ]
    }
   ],
   "source": [
    "check_truthy_value(true)"
   ]
  },
  {
   "cell_type": "code",
   "execution_count": 29,
   "id": "86e1dc47-75cd-41a8-a9e8-d32bce6c0bc9",
   "metadata": {},
   "outputs": [
    {
     "name": "stdout",
     "output_type": "stream",
     "text": [
      "'' is a falsy value!\n"
     ]
    }
   ],
   "source": [
    "check_truthy_value(nil)"
   ]
  },
  {
   "cell_type": "code",
   "execution_count": 30,
   "id": "0992f941-f622-4807-aa28-ebe2a6c91b8a",
   "metadata": {},
   "outputs": [
    {
     "name": "stdout",
     "output_type": "stream",
     "text": [
      "'0' is a truthy value!\n"
     ]
    }
   ],
   "source": [
    "check_truthy_value(0)"
   ]
  },
  {
   "cell_type": "code",
   "execution_count": 31,
   "id": "e6b43cd9-5ec6-4a93-a45c-f9fcaab9c085",
   "metadata": {},
   "outputs": [
    {
     "name": "stdout",
     "output_type": "stream",
     "text": [
      "'[]' is a truthy value!\n"
     ]
    }
   ],
   "source": [
    "check_truthy_value([])"
   ]
  },
  {
   "cell_type": "markdown",
   "id": "3a809450-5fcf-4693-bc31-e3b2f579be3f",
   "metadata": {
    "jp-MarkdownHeadingCollapsed": true
   },
   "source": [
    "### Basic conditional statement"
   ]
  },
  {
   "cell_type": "code",
   "execution_count": 36,
   "id": "7d9942be-5862-49e3-a0e2-c087faf4338d",
   "metadata": {},
   "outputs": [
    {
     "name": "stdout",
     "output_type": "stream",
     "text": [
      "1 < 2\n"
     ]
    }
   ],
   "source": [
    "if 1 < 2\n",
    "    puts '1 < 2'\n",
    "end"
   ]
  },
  {
   "cell_type": "code",
   "execution_count": 37,
   "id": "bc9988a5-5a65-4ec2-b693-39be26c33c9e",
   "metadata": {},
   "outputs": [
    {
     "name": "stdout",
     "output_type": "stream",
     "text": [
      "1 < 2\n"
     ]
    }
   ],
   "source": [
    "puts '1 < 2' if 1 < 2"
   ]
  },
  {
   "cell_type": "markdown",
   "id": "e7b4910d-a699-473f-a7e6-c7449cf01317",
   "metadata": {
    "jp-MarkdownHeadingCollapsed": true
   },
   "source": [
    "### [Boolean logic](https://www.theodinproject.com/lessons/ruby-conditional-logic#boolean-logic)"
   ]
  },
  {
   "cell_type": "code",
   "execution_count": 38,
   "id": "f4e835ca-1acd-40e5-87dd-4a8dbd93804a",
   "metadata": {},
   "outputs": [
    {
     "data": {
      "text/plain": [
       "true"
      ]
     },
     "execution_count": 38,
     "metadata": {},
     "output_type": "execute_result"
    }
   ],
   "source": [
    "1 == 1.0"
   ]
  },
  {
   "cell_type": "markdown",
   "id": "1b88dad8-d895-401b-84fd-dd4e72fb37d2",
   "metadata": {},
   "source": [
    "`eql?()` and `equal?()`"
   ]
  },
  {
   "cell_type": "markdown",
   "id": "b4a7eadd-d2ce-4734-bd1f-6243d57aed4d",
   "metadata": {},
   "source": [
    "#### Spaceship operator"
   ]
  },
  {
   "cell_type": "code",
   "execution_count": 42,
   "id": "bbe2d66c-15cb-45cc-ad86-566e4311fb0e",
   "metadata": {},
   "outputs": [
    {
     "data": {
      "text/plain": [
       "-1"
      ]
     },
     "execution_count": 42,
     "metadata": {},
     "output_type": "execute_result"
    }
   ],
   "source": [
    "1 <=> 2"
   ]
  },
  {
   "cell_type": "code",
   "execution_count": 43,
   "id": "f4db7738-bb98-44c1-b4fb-93e23f12d398",
   "metadata": {},
   "outputs": [
    {
     "data": {
      "text/plain": [
       "0"
      ]
     },
     "execution_count": 43,
     "metadata": {},
     "output_type": "execute_result"
    }
   ],
   "source": [
    "1 <=> 1"
   ]
  },
  {
   "cell_type": "code",
   "execution_count": 44,
   "id": "45390b11-f399-40c1-a482-15ac6a57590c",
   "metadata": {},
   "outputs": [
    {
     "data": {
      "text/plain": [
       "1"
      ]
     },
     "execution_count": 44,
     "metadata": {},
     "output_type": "execute_result"
    }
   ],
   "source": [
    "2 <=> 1"
   ]
  },
  {
   "cell_type": "markdown",
   "id": "1fe2c674-2a21-4d7f-80a0-6609ff73ed61",
   "metadata": {
    "jp-MarkdownHeadingCollapsed": true
   },
   "source": [
    "### Case statement"
   ]
  },
  {
   "cell_type": "code",
   "execution_count": 45,
   "id": "53f936ea-c245-409a-a757-55053ebb0da4",
   "metadata": {},
   "outputs": [
    {
     "data": {
      "text/plain": [
       "\"YOU SHALL NOT PASS!\""
      ]
     },
     "execution_count": 45,
     "metadata": {},
     "output_type": "execute_result"
    }
   ],
   "source": [
    "grade = 'F'\n",
    "\n",
    "did_i_pass = case grade\n",
    "    when 'A' then 'Hell Yeah!'\n",
    "    when 'D' then 'Don\\'t tell your mother!'\n",
    "    else 'YOU SHALL NOT PASS!'\n",
    "end\n",
    "did_i_pass"
   ]
  },
  {
   "cell_type": "code",
   "execution_count": 46,
   "id": "5813b01a-25cd-46f6-b20c-fbfc8a243c42",
   "metadata": {},
   "outputs": [
    {
     "name": "stdout",
     "output_type": "stream",
     "text": [
      "'YOU SHALL NOT PASS!' -Gandalf\n"
     ]
    },
    {
     "data": {
      "text/plain": [
       "true"
      ]
     },
     "execution_count": 46,
     "metadata": {},
     "output_type": "execute_result"
    }
   ],
   "source": [
    "grade = 'F'\n",
    "\n",
    "case grade\n",
    "when 'A'\n",
    "  puts \"You're a genius\"\n",
    "  future_bank_account_balance = 5_000_000\n",
    "when 'D'\n",
    "  puts \"Better luck next time\"\n",
    "  can_i_retire_soon = false\n",
    "else\n",
    "  puts \"'YOU SHALL NOT PASS!' -Gandalf\"\n",
    "  fml = true\n",
    "end"
   ]
  },
  {
   "cell_type": "markdown",
   "id": "417ae4f3-8d97-4ff7-a2ab-e395fc59dc4f",
   "metadata": {
    "jp-MarkdownHeadingCollapsed": true
   },
   "source": [
    "### Unless statements"
   ]
  },
  {
   "cell_type": "code",
   "execution_count": 48,
   "id": "d540608f-d7fe-4e38-b9fc-f96a05ac035e",
   "metadata": {},
   "outputs": [
    {
     "name": "stdout",
     "output_type": "stream",
     "text": [
      "Get a job!\n"
     ]
    }
   ],
   "source": [
    "age = 19\n",
    "\n",
    "unless age < 18\n",
    "    puts 'Get a job!'\n",
    "end"
   ]
  },
  {
   "cell_type": "code",
   "execution_count": 49,
   "id": "7d85a42e-f338-41d0-a150-616d8ff1a9ec",
   "metadata": {},
   "outputs": [
    {
     "name": "stdout",
     "output_type": "stream",
     "text": [
      "Get a job!\n"
     ]
    }
   ],
   "source": [
    "puts 'Get a job!' unless age < 18"
   ]
  },
  {
   "cell_type": "markdown",
   "id": "2fb5da63-5216-400a-a029-3596b6a7c416",
   "metadata": {},
   "source": [
    "### Ternary operator"
   ]
  },
  {
   "cell_type": "code",
   "execution_count": 53,
   "id": "3bb1395f-bc72-42d5-9b40-134084fd6f68",
   "metadata": {},
   "outputs": [
    {
     "data": {
      "text/plain": [
       "1"
      ]
     },
     "execution_count": 53,
     "metadata": {},
     "output_type": "execute_result"
    }
   ],
   "source": [
    "2.odd? ? 0 : 1"
   ]
  },
  {
   "cell_type": "code",
   "execution_count": null,
   "id": "e1af8c8b-b82e-4418-b756-4a75ebe7511d",
   "metadata": {},
   "outputs": [],
   "source": []
  }
 ],
 "metadata": {
  "kernelspec": {
   "display_name": "Ruby 3 (iruby kernel)",
   "language": "ruby",
   "name": "ruby3"
  },
  "language_info": {
   "file_extension": ".rb",
   "mimetype": "application/x-ruby",
   "name": "ruby",
   "version": "3.3.8"
  }
 },
 "nbformat": 4,
 "nbformat_minor": 5
}
